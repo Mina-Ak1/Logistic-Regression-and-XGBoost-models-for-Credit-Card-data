{
 "cells": [
  {
   "cell_type": "markdown",
   "id": "b8dc8030-e749-4e88-b773-eee890961ed6",
   "metadata": {},
   "source": [
    "**Logistic Regression and XGBoost models for Credit Card Details Binary Classification Problem** <br>\n",
    "https://www.kaggle.com/datasets/rohitudageri/credit-card-details?select=Credit_card.csv <br>\n",
    "\n",
    "Compared accuracies of Logestic Regression and XGBoost models with ROC Curve after accounting for the unbalanced data in our models."
   ]
  },
  {
   "cell_type": "code",
   "execution_count": 88,
   "id": "511c1679-36df-4603-a5ce-54c19204c22b",
   "metadata": {},
   "outputs": [],
   "source": [
    "library(tidyverse)\n",
    "library(xgboost)"
   ]
  },
  {
   "cell_type": "code",
   "execution_count": 89,
   "id": "d595f301",
   "metadata": {},
   "outputs": [
    {
     "data": {
      "text/html": [
       "<table class=\"dataframe\">\n",
       "<caption>A data.frame: 6 × 18</caption>\n",
       "<thead>\n",
       "\t<tr><th></th><th scope=col>Ind_ID</th><th scope=col>GENDER</th><th scope=col>Car_Owner</th><th scope=col>Propert_Owner</th><th scope=col>CHILDREN</th><th scope=col>Annual_income</th><th scope=col>Type_Income</th><th scope=col>EDUCATION</th><th scope=col>Marital_status</th><th scope=col>Housing_type</th><th scope=col>Birthday_count</th><th scope=col>Employed_days</th><th scope=col>Mobile_phone</th><th scope=col>Work_Phone</th><th scope=col>Phone</th><th scope=col>EMAIL_ID</th><th scope=col>Type_Occupation</th><th scope=col>Family_Members</th></tr>\n",
       "\t<tr><th></th><th scope=col>&lt;int&gt;</th><th scope=col>&lt;fct&gt;</th><th scope=col>&lt;fct&gt;</th><th scope=col>&lt;fct&gt;</th><th scope=col>&lt;int&gt;</th><th scope=col>&lt;dbl&gt;</th><th scope=col>&lt;fct&gt;</th><th scope=col>&lt;fct&gt;</th><th scope=col>&lt;fct&gt;</th><th scope=col>&lt;fct&gt;</th><th scope=col>&lt;int&gt;</th><th scope=col>&lt;int&gt;</th><th scope=col>&lt;int&gt;</th><th scope=col>&lt;int&gt;</th><th scope=col>&lt;int&gt;</th><th scope=col>&lt;int&gt;</th><th scope=col>&lt;fct&gt;</th><th scope=col>&lt;int&gt;</th></tr>\n",
       "</thead>\n",
       "<tbody>\n",
       "\t<tr><th scope=row>1</th><td>5008827</td><td>M </td><td>Y</td><td>Y</td><td>0</td><td>180000</td><td>Pensioner           </td><td>Higher education</td><td>Married</td><td>House / apartment</td><td>-18772</td><td>365243</td><td>1</td><td>0</td><td>0</td><td>0</td><td>NA</td><td>2</td></tr>\n",
       "\t<tr><th scope=row>2</th><td>5009744</td><td>F </td><td>Y</td><td>N</td><td>0</td><td>315000</td><td>Commercial associate</td><td>Higher education</td><td>Married</td><td>House / apartment</td><td>-13557</td><td>  -586</td><td>1</td><td>1</td><td>1</td><td>0</td><td>NA</td><td>2</td></tr>\n",
       "\t<tr><th scope=row>3</th><td>5009746</td><td>F </td><td>Y</td><td>N</td><td>0</td><td>315000</td><td>Commercial associate</td><td>Higher education</td><td>Married</td><td>House / apartment</td><td>    NA</td><td>  -586</td><td>1</td><td>1</td><td>1</td><td>0</td><td>NA</td><td>2</td></tr>\n",
       "\t<tr><th scope=row>4</th><td>5009749</td><td>F </td><td>Y</td><td>N</td><td>0</td><td>    NA</td><td>Commercial associate</td><td>Higher education</td><td>Married</td><td>House / apartment</td><td>-13557</td><td>  -586</td><td>1</td><td>1</td><td>1</td><td>0</td><td>NA</td><td>2</td></tr>\n",
       "\t<tr><th scope=row>5</th><td>5009752</td><td>F </td><td>Y</td><td>N</td><td>0</td><td>315000</td><td>Commercial associate</td><td>Higher education</td><td>Married</td><td>House / apartment</td><td>-13557</td><td>  -586</td><td>1</td><td>1</td><td>1</td><td>0</td><td>NA</td><td>2</td></tr>\n",
       "\t<tr><th scope=row>6</th><td>5009753</td><td>NA</td><td>Y</td><td>N</td><td>0</td><td>315000</td><td>Pensioner           </td><td>Higher education</td><td>Married</td><td>House / apartment</td><td>-13557</td><td>  -586</td><td>1</td><td>1</td><td>1</td><td>0</td><td>NA</td><td>2</td></tr>\n",
       "</tbody>\n",
       "</table>\n"
      ],
      "text/latex": [
       "A data.frame: 6 × 18\n",
       "\\begin{tabular}{r|llllllllllllllllll}\n",
       "  & Ind\\_ID & GENDER & Car\\_Owner & Propert\\_Owner & CHILDREN & Annual\\_income & Type\\_Income & EDUCATION & Marital\\_status & Housing\\_type & Birthday\\_count & Employed\\_days & Mobile\\_phone & Work\\_Phone & Phone & EMAIL\\_ID & Type\\_Occupation & Family\\_Members\\\\\n",
       "  & <int> & <fct> & <fct> & <fct> & <int> & <dbl> & <fct> & <fct> & <fct> & <fct> & <int> & <int> & <int> & <int> & <int> & <int> & <fct> & <int>\\\\\n",
       "\\hline\n",
       "\t1 & 5008827 & M  & Y & Y & 0 & 180000 & Pensioner            & Higher education & Married & House / apartment & -18772 & 365243 & 1 & 0 & 0 & 0 & NA & 2\\\\\n",
       "\t2 & 5009744 & F  & Y & N & 0 & 315000 & Commercial associate & Higher education & Married & House / apartment & -13557 &   -586 & 1 & 1 & 1 & 0 & NA & 2\\\\\n",
       "\t3 & 5009746 & F  & Y & N & 0 & 315000 & Commercial associate & Higher education & Married & House / apartment &     NA &   -586 & 1 & 1 & 1 & 0 & NA & 2\\\\\n",
       "\t4 & 5009749 & F  & Y & N & 0 &     NA & Commercial associate & Higher education & Married & House / apartment & -13557 &   -586 & 1 & 1 & 1 & 0 & NA & 2\\\\\n",
       "\t5 & 5009752 & F  & Y & N & 0 & 315000 & Commercial associate & Higher education & Married & House / apartment & -13557 &   -586 & 1 & 1 & 1 & 0 & NA & 2\\\\\n",
       "\t6 & 5009753 & NA & Y & N & 0 & 315000 & Pensioner            & Higher education & Married & House / apartment & -13557 &   -586 & 1 & 1 & 1 & 0 & NA & 2\\\\\n",
       "\\end{tabular}\n"
      ],
      "text/markdown": [
       "\n",
       "A data.frame: 6 × 18\n",
       "\n",
       "| <!--/--> | Ind_ID &lt;int&gt; | GENDER &lt;fct&gt; | Car_Owner &lt;fct&gt; | Propert_Owner &lt;fct&gt; | CHILDREN &lt;int&gt; | Annual_income &lt;dbl&gt; | Type_Income &lt;fct&gt; | EDUCATION &lt;fct&gt; | Marital_status &lt;fct&gt; | Housing_type &lt;fct&gt; | Birthday_count &lt;int&gt; | Employed_days &lt;int&gt; | Mobile_phone &lt;int&gt; | Work_Phone &lt;int&gt; | Phone &lt;int&gt; | EMAIL_ID &lt;int&gt; | Type_Occupation &lt;fct&gt; | Family_Members &lt;int&gt; |\n",
       "|---|---|---|---|---|---|---|---|---|---|---|---|---|---|---|---|---|---|---|\n",
       "| 1 | 5008827 | M  | Y | Y | 0 | 180000 | Pensioner            | Higher education | Married | House / apartment | -18772 | 365243 | 1 | 0 | 0 | 0 | NA | 2 |\n",
       "| 2 | 5009744 | F  | Y | N | 0 | 315000 | Commercial associate | Higher education | Married | House / apartment | -13557 |   -586 | 1 | 1 | 1 | 0 | NA | 2 |\n",
       "| 3 | 5009746 | F  | Y | N | 0 | 315000 | Commercial associate | Higher education | Married | House / apartment |     NA |   -586 | 1 | 1 | 1 | 0 | NA | 2 |\n",
       "| 4 | 5009749 | F  | Y | N | 0 |     NA | Commercial associate | Higher education | Married | House / apartment | -13557 |   -586 | 1 | 1 | 1 | 0 | NA | 2 |\n",
       "| 5 | 5009752 | F  | Y | N | 0 | 315000 | Commercial associate | Higher education | Married | House / apartment | -13557 |   -586 | 1 | 1 | 1 | 0 | NA | 2 |\n",
       "| 6 | 5009753 | NA | Y | N | 0 | 315000 | Pensioner            | Higher education | Married | House / apartment | -13557 |   -586 | 1 | 1 | 1 | 0 | NA | 2 |\n",
       "\n"
      ],
      "text/plain": [
       "  Ind_ID  GENDER Car_Owner Propert_Owner CHILDREN Annual_income\n",
       "1 5008827 M      Y         Y             0        180000       \n",
       "2 5009744 F      Y         N             0        315000       \n",
       "3 5009746 F      Y         N             0        315000       \n",
       "4 5009749 F      Y         N             0            NA       \n",
       "5 5009752 F      Y         N             0        315000       \n",
       "6 5009753 NA     Y         N             0        315000       \n",
       "  Type_Income          EDUCATION        Marital_status Housing_type     \n",
       "1 Pensioner            Higher education Married        House / apartment\n",
       "2 Commercial associate Higher education Married        House / apartment\n",
       "3 Commercial associate Higher education Married        House / apartment\n",
       "4 Commercial associate Higher education Married        House / apartment\n",
       "5 Commercial associate Higher education Married        House / apartment\n",
       "6 Pensioner            Higher education Married        House / apartment\n",
       "  Birthday_count Employed_days Mobile_phone Work_Phone Phone EMAIL_ID\n",
       "1 -18772         365243        1            0          0     0       \n",
       "2 -13557           -586        1            1          1     0       \n",
       "3     NA           -586        1            1          1     0       \n",
       "4 -13557           -586        1            1          1     0       \n",
       "5 -13557           -586        1            1          1     0       \n",
       "6 -13557           -586        1            1          1     0       \n",
       "  Type_Occupation Family_Members\n",
       "1 NA              2             \n",
       "2 NA              2             \n",
       "3 NA              2             \n",
       "4 NA              2             \n",
       "5 NA              2             \n",
       "6 NA              2             "
      ]
     },
     "metadata": {},
     "output_type": "display_data"
    }
   ],
   "source": [
    "#Read data and read missing values as NA\n",
    "cc = read.csv(\"Credit_card.csv\", na.strings=c(\"\",\"NA\"), stringsAsFactors = TRUE)\n",
    "head(cc)"
   ]
  },
  {
   "cell_type": "code",
   "execution_count": 90,
   "id": "4e0ea59b-56f0-4948-a7c5-0bd649d8018f",
   "metadata": {
    "scrolled": true
   },
   "outputs": [
    {
     "data": {
      "text/html": [
       "0"
      ],
      "text/latex": [
       "0"
      ],
      "text/markdown": [
       "0"
      ],
      "text/plain": [
       "[1] 0"
      ]
     },
     "metadata": {},
     "output_type": "display_data"
    }
   ],
   "source": [
    "#Any duplicated data?\n",
    "sum(duplicated(cc))"
   ]
  },
  {
   "cell_type": "code",
   "execution_count": 91,
   "id": "f3161a39",
   "metadata": {},
   "outputs": [],
   "source": [
    "#Create Age column from the Birthday_count column\n",
    "cc$Age = abs(floor(cc$Birthday_count / 365))"
   ]
  },
  {
   "cell_type": "code",
   "execution_count": 92,
   "id": "6f7d3131",
   "metadata": {},
   "outputs": [],
   "source": [
    "labels = read.csv(\"Credit_card_label.csv\")\n",
    "cc$label = as.factor(labels$label)"
   ]
  },
  {
   "cell_type": "code",
   "execution_count": 93,
   "id": "f4c24107",
   "metadata": {},
   "outputs": [
    {
     "data": {
      "text/html": [
       "<table class=\"dataframe\">\n",
       "<caption>A data.frame: 6 × 20</caption>\n",
       "<thead>\n",
       "\t<tr><th></th><th scope=col>Ind_ID</th><th scope=col>GENDER</th><th scope=col>Car_Owner</th><th scope=col>Propert_Owner</th><th scope=col>CHILDREN</th><th scope=col>Annual_income</th><th scope=col>Type_Income</th><th scope=col>EDUCATION</th><th scope=col>Marital_status</th><th scope=col>Housing_type</th><th scope=col>Birthday_count</th><th scope=col>Employed_days</th><th scope=col>Mobile_phone</th><th scope=col>Work_Phone</th><th scope=col>Phone</th><th scope=col>EMAIL_ID</th><th scope=col>Type_Occupation</th><th scope=col>Family_Members</th><th scope=col>Age</th><th scope=col>label</th></tr>\n",
       "\t<tr><th></th><th scope=col>&lt;int&gt;</th><th scope=col>&lt;fct&gt;</th><th scope=col>&lt;fct&gt;</th><th scope=col>&lt;fct&gt;</th><th scope=col>&lt;int&gt;</th><th scope=col>&lt;dbl&gt;</th><th scope=col>&lt;fct&gt;</th><th scope=col>&lt;fct&gt;</th><th scope=col>&lt;fct&gt;</th><th scope=col>&lt;fct&gt;</th><th scope=col>&lt;int&gt;</th><th scope=col>&lt;int&gt;</th><th scope=col>&lt;int&gt;</th><th scope=col>&lt;int&gt;</th><th scope=col>&lt;int&gt;</th><th scope=col>&lt;int&gt;</th><th scope=col>&lt;fct&gt;</th><th scope=col>&lt;int&gt;</th><th scope=col>&lt;dbl&gt;</th><th scope=col>&lt;fct&gt;</th></tr>\n",
       "</thead>\n",
       "<tbody>\n",
       "\t<tr><th scope=row>1</th><td>5008827</td><td>M </td><td>Y</td><td>Y</td><td>0</td><td>180000</td><td>Pensioner           </td><td>Higher education</td><td>Married</td><td>House / apartment</td><td>-18772</td><td>365243</td><td>1</td><td>0</td><td>0</td><td>0</td><td>NA</td><td>2</td><td>52</td><td>1</td></tr>\n",
       "\t<tr><th scope=row>2</th><td>5009744</td><td>F </td><td>Y</td><td>N</td><td>0</td><td>315000</td><td>Commercial associate</td><td>Higher education</td><td>Married</td><td>House / apartment</td><td>-13557</td><td>  -586</td><td>1</td><td>1</td><td>1</td><td>0</td><td>NA</td><td>2</td><td>38</td><td>1</td></tr>\n",
       "\t<tr><th scope=row>3</th><td>5009746</td><td>F </td><td>Y</td><td>N</td><td>0</td><td>315000</td><td>Commercial associate</td><td>Higher education</td><td>Married</td><td>House / apartment</td><td>    NA</td><td>  -586</td><td>1</td><td>1</td><td>1</td><td>0</td><td>NA</td><td>2</td><td>NA</td><td>1</td></tr>\n",
       "\t<tr><th scope=row>4</th><td>5009749</td><td>F </td><td>Y</td><td>N</td><td>0</td><td>    NA</td><td>Commercial associate</td><td>Higher education</td><td>Married</td><td>House / apartment</td><td>-13557</td><td>  -586</td><td>1</td><td>1</td><td>1</td><td>0</td><td>NA</td><td>2</td><td>38</td><td>1</td></tr>\n",
       "\t<tr><th scope=row>5</th><td>5009752</td><td>F </td><td>Y</td><td>N</td><td>0</td><td>315000</td><td>Commercial associate</td><td>Higher education</td><td>Married</td><td>House / apartment</td><td>-13557</td><td>  -586</td><td>1</td><td>1</td><td>1</td><td>0</td><td>NA</td><td>2</td><td>38</td><td>1</td></tr>\n",
       "\t<tr><th scope=row>6</th><td>5009753</td><td>NA</td><td>Y</td><td>N</td><td>0</td><td>315000</td><td>Pensioner           </td><td>Higher education</td><td>Married</td><td>House / apartment</td><td>-13557</td><td>  -586</td><td>1</td><td>1</td><td>1</td><td>0</td><td>NA</td><td>2</td><td>38</td><td>1</td></tr>\n",
       "</tbody>\n",
       "</table>\n"
      ],
      "text/latex": [
       "A data.frame: 6 × 20\n",
       "\\begin{tabular}{r|llllllllllllllllllll}\n",
       "  & Ind\\_ID & GENDER & Car\\_Owner & Propert\\_Owner & CHILDREN & Annual\\_income & Type\\_Income & EDUCATION & Marital\\_status & Housing\\_type & Birthday\\_count & Employed\\_days & Mobile\\_phone & Work\\_Phone & Phone & EMAIL\\_ID & Type\\_Occupation & Family\\_Members & Age & label\\\\\n",
       "  & <int> & <fct> & <fct> & <fct> & <int> & <dbl> & <fct> & <fct> & <fct> & <fct> & <int> & <int> & <int> & <int> & <int> & <int> & <fct> & <int> & <dbl> & <fct>\\\\\n",
       "\\hline\n",
       "\t1 & 5008827 & M  & Y & Y & 0 & 180000 & Pensioner            & Higher education & Married & House / apartment & -18772 & 365243 & 1 & 0 & 0 & 0 & NA & 2 & 52 & 1\\\\\n",
       "\t2 & 5009744 & F  & Y & N & 0 & 315000 & Commercial associate & Higher education & Married & House / apartment & -13557 &   -586 & 1 & 1 & 1 & 0 & NA & 2 & 38 & 1\\\\\n",
       "\t3 & 5009746 & F  & Y & N & 0 & 315000 & Commercial associate & Higher education & Married & House / apartment &     NA &   -586 & 1 & 1 & 1 & 0 & NA & 2 & NA & 1\\\\\n",
       "\t4 & 5009749 & F  & Y & N & 0 &     NA & Commercial associate & Higher education & Married & House / apartment & -13557 &   -586 & 1 & 1 & 1 & 0 & NA & 2 & 38 & 1\\\\\n",
       "\t5 & 5009752 & F  & Y & N & 0 & 315000 & Commercial associate & Higher education & Married & House / apartment & -13557 &   -586 & 1 & 1 & 1 & 0 & NA & 2 & 38 & 1\\\\\n",
       "\t6 & 5009753 & NA & Y & N & 0 & 315000 & Pensioner            & Higher education & Married & House / apartment & -13557 &   -586 & 1 & 1 & 1 & 0 & NA & 2 & 38 & 1\\\\\n",
       "\\end{tabular}\n"
      ],
      "text/markdown": [
       "\n",
       "A data.frame: 6 × 20\n",
       "\n",
       "| <!--/--> | Ind_ID &lt;int&gt; | GENDER &lt;fct&gt; | Car_Owner &lt;fct&gt; | Propert_Owner &lt;fct&gt; | CHILDREN &lt;int&gt; | Annual_income &lt;dbl&gt; | Type_Income &lt;fct&gt; | EDUCATION &lt;fct&gt; | Marital_status &lt;fct&gt; | Housing_type &lt;fct&gt; | Birthday_count &lt;int&gt; | Employed_days &lt;int&gt; | Mobile_phone &lt;int&gt; | Work_Phone &lt;int&gt; | Phone &lt;int&gt; | EMAIL_ID &lt;int&gt; | Type_Occupation &lt;fct&gt; | Family_Members &lt;int&gt; | Age &lt;dbl&gt; | label &lt;fct&gt; |\n",
       "|---|---|---|---|---|---|---|---|---|---|---|---|---|---|---|---|---|---|---|---|---|\n",
       "| 1 | 5008827 | M  | Y | Y | 0 | 180000 | Pensioner            | Higher education | Married | House / apartment | -18772 | 365243 | 1 | 0 | 0 | 0 | NA | 2 | 52 | 1 |\n",
       "| 2 | 5009744 | F  | Y | N | 0 | 315000 | Commercial associate | Higher education | Married | House / apartment | -13557 |   -586 | 1 | 1 | 1 | 0 | NA | 2 | 38 | 1 |\n",
       "| 3 | 5009746 | F  | Y | N | 0 | 315000 | Commercial associate | Higher education | Married | House / apartment |     NA |   -586 | 1 | 1 | 1 | 0 | NA | 2 | NA | 1 |\n",
       "| 4 | 5009749 | F  | Y | N | 0 |     NA | Commercial associate | Higher education | Married | House / apartment | -13557 |   -586 | 1 | 1 | 1 | 0 | NA | 2 | 38 | 1 |\n",
       "| 5 | 5009752 | F  | Y | N | 0 | 315000 | Commercial associate | Higher education | Married | House / apartment | -13557 |   -586 | 1 | 1 | 1 | 0 | NA | 2 | 38 | 1 |\n",
       "| 6 | 5009753 | NA | Y | N | 0 | 315000 | Pensioner            | Higher education | Married | House / apartment | -13557 |   -586 | 1 | 1 | 1 | 0 | NA | 2 | 38 | 1 |\n",
       "\n"
      ],
      "text/plain": [
       "  Ind_ID  GENDER Car_Owner Propert_Owner CHILDREN Annual_income\n",
       "1 5008827 M      Y         Y             0        180000       \n",
       "2 5009744 F      Y         N             0        315000       \n",
       "3 5009746 F      Y         N             0        315000       \n",
       "4 5009749 F      Y         N             0            NA       \n",
       "5 5009752 F      Y         N             0        315000       \n",
       "6 5009753 NA     Y         N             0        315000       \n",
       "  Type_Income          EDUCATION        Marital_status Housing_type     \n",
       "1 Pensioner            Higher education Married        House / apartment\n",
       "2 Commercial associate Higher education Married        House / apartment\n",
       "3 Commercial associate Higher education Married        House / apartment\n",
       "4 Commercial associate Higher education Married        House / apartment\n",
       "5 Commercial associate Higher education Married        House / apartment\n",
       "6 Pensioner            Higher education Married        House / apartment\n",
       "  Birthday_count Employed_days Mobile_phone Work_Phone Phone EMAIL_ID\n",
       "1 -18772         365243        1            0          0     0       \n",
       "2 -13557           -586        1            1          1     0       \n",
       "3     NA           -586        1            1          1     0       \n",
       "4 -13557           -586        1            1          1     0       \n",
       "5 -13557           -586        1            1          1     0       \n",
       "6 -13557           -586        1            1          1     0       \n",
       "  Type_Occupation Family_Members Age label\n",
       "1 NA              2              52  1    \n",
       "2 NA              2              38  1    \n",
       "3 NA              2              NA  1    \n",
       "4 NA              2              38  1    \n",
       "5 NA              2              38  1    \n",
       "6 NA              2              38  1    "
      ]
     },
     "metadata": {},
     "output_type": "display_data"
    }
   ],
   "source": [
    "head(cc)"
   ]
  },
  {
   "cell_type": "code",
   "execution_count": 94,
   "id": "90459d7b",
   "metadata": {},
   "outputs": [],
   "source": [
    "#Will drop the columns that are not very useful for our predictions\n",
    "#\"Ind_ID\", \"Mobile_phone\", \"EMAIL_ID\", \"Phone\", \"Work_Phone\" \n",
    "#We do not need the Birthday_count column anymore\n",
    "cc = cc[,-c(1,11,13:16)]"
   ]
  },
  {
   "cell_type": "code",
   "execution_count": 95,
   "id": "171604a1",
   "metadata": {},
   "outputs": [
    {
     "data": {
      "text/html": [
       "<table class=\"dataframe\">\n",
       "<caption>A data.frame: 6 × 14</caption>\n",
       "<thead>\n",
       "\t<tr><th></th><th scope=col>GENDER</th><th scope=col>Car_Owner</th><th scope=col>Propert_Owner</th><th scope=col>CHILDREN</th><th scope=col>Annual_income</th><th scope=col>Type_Income</th><th scope=col>EDUCATION</th><th scope=col>Marital_status</th><th scope=col>Housing_type</th><th scope=col>Employed_days</th><th scope=col>Type_Occupation</th><th scope=col>Family_Members</th><th scope=col>Age</th><th scope=col>label</th></tr>\n",
       "\t<tr><th></th><th scope=col>&lt;fct&gt;</th><th scope=col>&lt;fct&gt;</th><th scope=col>&lt;fct&gt;</th><th scope=col>&lt;int&gt;</th><th scope=col>&lt;dbl&gt;</th><th scope=col>&lt;fct&gt;</th><th scope=col>&lt;fct&gt;</th><th scope=col>&lt;fct&gt;</th><th scope=col>&lt;fct&gt;</th><th scope=col>&lt;int&gt;</th><th scope=col>&lt;fct&gt;</th><th scope=col>&lt;int&gt;</th><th scope=col>&lt;dbl&gt;</th><th scope=col>&lt;fct&gt;</th></tr>\n",
       "</thead>\n",
       "<tbody>\n",
       "\t<tr><th scope=row>1</th><td>M </td><td>Y</td><td>Y</td><td>0</td><td>180000</td><td>Pensioner           </td><td>Higher education</td><td>Married</td><td>House / apartment</td><td>365243</td><td>NA</td><td>2</td><td>52</td><td>1</td></tr>\n",
       "\t<tr><th scope=row>2</th><td>F </td><td>Y</td><td>N</td><td>0</td><td>315000</td><td>Commercial associate</td><td>Higher education</td><td>Married</td><td>House / apartment</td><td>  -586</td><td>NA</td><td>2</td><td>38</td><td>1</td></tr>\n",
       "\t<tr><th scope=row>3</th><td>F </td><td>Y</td><td>N</td><td>0</td><td>315000</td><td>Commercial associate</td><td>Higher education</td><td>Married</td><td>House / apartment</td><td>  -586</td><td>NA</td><td>2</td><td>NA</td><td>1</td></tr>\n",
       "\t<tr><th scope=row>4</th><td>F </td><td>Y</td><td>N</td><td>0</td><td>    NA</td><td>Commercial associate</td><td>Higher education</td><td>Married</td><td>House / apartment</td><td>  -586</td><td>NA</td><td>2</td><td>38</td><td>1</td></tr>\n",
       "\t<tr><th scope=row>5</th><td>F </td><td>Y</td><td>N</td><td>0</td><td>315000</td><td>Commercial associate</td><td>Higher education</td><td>Married</td><td>House / apartment</td><td>  -586</td><td>NA</td><td>2</td><td>38</td><td>1</td></tr>\n",
       "\t<tr><th scope=row>6</th><td>NA</td><td>Y</td><td>N</td><td>0</td><td>315000</td><td>Pensioner           </td><td>Higher education</td><td>Married</td><td>House / apartment</td><td>  -586</td><td>NA</td><td>2</td><td>38</td><td>1</td></tr>\n",
       "</tbody>\n",
       "</table>\n"
      ],
      "text/latex": [
       "A data.frame: 6 × 14\n",
       "\\begin{tabular}{r|llllllllllllll}\n",
       "  & GENDER & Car\\_Owner & Propert\\_Owner & CHILDREN & Annual\\_income & Type\\_Income & EDUCATION & Marital\\_status & Housing\\_type & Employed\\_days & Type\\_Occupation & Family\\_Members & Age & label\\\\\n",
       "  & <fct> & <fct> & <fct> & <int> & <dbl> & <fct> & <fct> & <fct> & <fct> & <int> & <fct> & <int> & <dbl> & <fct>\\\\\n",
       "\\hline\n",
       "\t1 & M  & Y & Y & 0 & 180000 & Pensioner            & Higher education & Married & House / apartment & 365243 & NA & 2 & 52 & 1\\\\\n",
       "\t2 & F  & Y & N & 0 & 315000 & Commercial associate & Higher education & Married & House / apartment &   -586 & NA & 2 & 38 & 1\\\\\n",
       "\t3 & F  & Y & N & 0 & 315000 & Commercial associate & Higher education & Married & House / apartment &   -586 & NA & 2 & NA & 1\\\\\n",
       "\t4 & F  & Y & N & 0 &     NA & Commercial associate & Higher education & Married & House / apartment &   -586 & NA & 2 & 38 & 1\\\\\n",
       "\t5 & F  & Y & N & 0 & 315000 & Commercial associate & Higher education & Married & House / apartment &   -586 & NA & 2 & 38 & 1\\\\\n",
       "\t6 & NA & Y & N & 0 & 315000 & Pensioner            & Higher education & Married & House / apartment &   -586 & NA & 2 & 38 & 1\\\\\n",
       "\\end{tabular}\n"
      ],
      "text/markdown": [
       "\n",
       "A data.frame: 6 × 14\n",
       "\n",
       "| <!--/--> | GENDER &lt;fct&gt; | Car_Owner &lt;fct&gt; | Propert_Owner &lt;fct&gt; | CHILDREN &lt;int&gt; | Annual_income &lt;dbl&gt; | Type_Income &lt;fct&gt; | EDUCATION &lt;fct&gt; | Marital_status &lt;fct&gt; | Housing_type &lt;fct&gt; | Employed_days &lt;int&gt; | Type_Occupation &lt;fct&gt; | Family_Members &lt;int&gt; | Age &lt;dbl&gt; | label &lt;fct&gt; |\n",
       "|---|---|---|---|---|---|---|---|---|---|---|---|---|---|---|\n",
       "| 1 | M  | Y | Y | 0 | 180000 | Pensioner            | Higher education | Married | House / apartment | 365243 | NA | 2 | 52 | 1 |\n",
       "| 2 | F  | Y | N | 0 | 315000 | Commercial associate | Higher education | Married | House / apartment |   -586 | NA | 2 | 38 | 1 |\n",
       "| 3 | F  | Y | N | 0 | 315000 | Commercial associate | Higher education | Married | House / apartment |   -586 | NA | 2 | NA | 1 |\n",
       "| 4 | F  | Y | N | 0 |     NA | Commercial associate | Higher education | Married | House / apartment |   -586 | NA | 2 | 38 | 1 |\n",
       "| 5 | F  | Y | N | 0 | 315000 | Commercial associate | Higher education | Married | House / apartment |   -586 | NA | 2 | 38 | 1 |\n",
       "| 6 | NA | Y | N | 0 | 315000 | Pensioner            | Higher education | Married | House / apartment |   -586 | NA | 2 | 38 | 1 |\n",
       "\n"
      ],
      "text/plain": [
       "  GENDER Car_Owner Propert_Owner CHILDREN Annual_income Type_Income         \n",
       "1 M      Y         Y             0        180000        Pensioner           \n",
       "2 F      Y         N             0        315000        Commercial associate\n",
       "3 F      Y         N             0        315000        Commercial associate\n",
       "4 F      Y         N             0            NA        Commercial associate\n",
       "5 F      Y         N             0        315000        Commercial associate\n",
       "6 NA     Y         N             0        315000        Pensioner           \n",
       "  EDUCATION        Marital_status Housing_type      Employed_days\n",
       "1 Higher education Married        House / apartment 365243       \n",
       "2 Higher education Married        House / apartment   -586       \n",
       "3 Higher education Married        House / apartment   -586       \n",
       "4 Higher education Married        House / apartment   -586       \n",
       "5 Higher education Married        House / apartment   -586       \n",
       "6 Higher education Married        House / apartment   -586       \n",
       "  Type_Occupation Family_Members Age label\n",
       "1 NA              2              52  1    \n",
       "2 NA              2              38  1    \n",
       "3 NA              2              NA  1    \n",
       "4 NA              2              38  1    \n",
       "5 NA              2              38  1    \n",
       "6 NA              2              38  1    "
      ]
     },
     "metadata": {},
     "output_type": "display_data"
    }
   ],
   "source": [
    "head(cc)"
   ]
  },
  {
   "cell_type": "code",
   "execution_count": 96,
   "id": "b339c945",
   "metadata": {},
   "outputs": [],
   "source": [
    "# Fill in NA age values with the average of age column\n",
    "cc$Age[which(is.na(cc$Age))] = round(mean(cc$Age, na.rm = TRUE))"
   ]
  },
  {
   "cell_type": "code",
   "execution_count": 97,
   "id": "057245ca",
   "metadata": {},
   "outputs": [
    {
     "data": {
      "text/plain": [
       "   Min. 1st Qu.  Median    Mean 3rd Qu.    Max. \n",
       "    0.0   431.8  1565.0  2217.0  3174.5 14887.0 "
      ]
     },
     "metadata": {},
     "output_type": "display_data"
    }
   ],
   "source": [
    "# Positive values mean unemployed so we change the positive employed_days to 0\n",
    "cc$Employed_days[which(cc$Employed_days >0)] = 0\n",
    "\n",
    "#Change the employed_days negative numbers to positive ones to make more sense.\n",
    "cc$Employed_days = (-1) * cc$Employed_days\n",
    "summary(cc$Employed_days)"
   ]
  },
  {
   "cell_type": "code",
   "execution_count": 98,
   "id": "86c68a20",
   "metadata": {},
   "outputs": [
    {
     "data": {
      "image/png": "[encoded data removed]",
      "text/plain": [
       "Plot with title \"Histogram of cc$Annual_income\""
      ]
     },
     "metadata": {
      "image/png": {
       "height": 360,
       "width": 480
      }
     },
     "output_type": "display_data"
    }
   ],
   "source": [
    "#Checking out the Annual_income distribution\n",
    "options(repr.plot.width =8 , repr.plot.height =6)\n",
    "hist(cc$Annual_income, prob = TRUE, ylim = c(0,0.00001))\n",
    "lines(density(cc$Annual_income, na.rm =TRUE),col = 4, lwd = 2)"
   ]
  },
  {
   "cell_type": "code",
   "execution_count": 99,
   "id": "beb8cd65",
   "metadata": {},
   "outputs": [],
   "source": [
    "#Annual_income has some outliers so we will fill in the NA values with median instead of mean\n",
    "cc$Annual_income[which(is.na(cc$Annual_income))] = round(median(cc$Annual_income, na.rm = TRUE))"
   ]
  },
  {
   "cell_type": "code",
   "execution_count": 100,
   "id": "49897ef0",
   "metadata": {},
   "outputs": [
    {
     "data": {
      "text/html": [
       "<strong>Laborers:</strong> 268"
      ],
      "text/latex": [
       "\\textbf{Laborers:} 268"
      ],
      "text/markdown": [
       "**Laborers:** 268"
      ],
      "text/plain": [
       "Laborers \n",
       "     268 "
      ]
     },
     "metadata": {},
     "output_type": "display_data"
    }
   ],
   "source": [
    "#Fill in NA values of the Type_Occupation column with the most frequent value\n",
    "sort(table(cc$Type_Occupation), decreasing = TRUE)[1]\n",
    "cc$Type_Occupation[which(is.na(cc$Type_Occupation))] = \"Laborers\""
   ]
  },
  {
   "cell_type": "code",
   "execution_count": 101,
   "id": "84389cd1",
   "metadata": {},
   "outputs": [
    {
     "data": {
      "text/plain": [
       "\n",
       "  F   M \n",
       "973 568 "
      ]
     },
     "metadata": {},
     "output_type": "display_data"
    }
   ],
   "source": [
    "#Fill in NA values of the Gender column with the most frequent value\n",
    "table(cc$GENDER)\n",
    "cc$GENDER[which(is.na(cc$GENDER))] = \"F\""
   ]
  },
  {
   "cell_type": "code",
   "execution_count": 102,
   "id": "aba9b1fd",
   "metadata": {
    "scrolled": true
   },
   "outputs": [
    {
     "data": {
      "text/html": [
       "0"
      ],
      "text/latex": [
       "0"
      ],
      "text/markdown": [
       "0"
      ],
      "text/plain": [
       "[1] 0"
      ]
     },
     "metadata": {},
     "output_type": "display_data"
    }
   ],
   "source": [
    "sum(is.na(cc))"
   ]
  },
  {
   "cell_type": "code",
   "execution_count": 103,
   "id": "8b08faf9",
   "metadata": {},
   "outputs": [
    {
     "name": "stdout",
     "output_type": "stream",
     "text": [
      "'data.frame':\t1548 obs. of  14 variables:\n",
      " $ GENDER         : Factor w/ 2 levels \"F\",\"M\": 2 1 1 1 1 1 1 1 2 2 ...\n",
      " $ Car_Owner      : Factor w/ 2 levels \"N\",\"Y\": 2 2 2 2 2 2 2 1 2 2 ...\n",
      " $ Propert_Owner  : Factor w/ 2 levels \"N\",\"Y\": 2 1 1 1 1 1 1 1 2 2 ...\n",
      " $ CHILDREN       : int  0 0 0 0 0 0 0 0 1 1 ...\n",
      " $ Annual_income  : num  180000 315000 315000 166500 315000 ...\n",
      " $ Type_Income    : Factor w/ 4 levels \"Commercial associate\",..: 2 1 1 1 1 2 1 2 1 2 ...\n",
      " $ EDUCATION      : Factor w/ 5 levels \"Academic degree\",..: 2 2 2 2 2 2 2 5 5 5 ...\n",
      " $ Marital_status : Factor w/ 5 levels \"Civil marriage\",..: 2 2 2 2 2 2 2 2 2 2 ...\n",
      " $ Housing_type   : Factor w/ 6 levels \"Co-op apartment\",..: 2 2 2 2 2 2 2 2 2 2 ...\n",
      " $ Employed_days  : num  0 586 586 586 586 586 586 0 678 678 ...\n",
      " $ Type_Occupation: Factor w/ 18 levels \"Accountants\",..: 9 9 9 9 9 9 9 9 4 4 ...\n",
      " $ Family_Members : int  2 2 2 2 2 2 2 2 3 3 ...\n",
      " $ Age            : num  52 38 44 38 38 38 38 61 50 50 ...\n",
      " $ label          : Factor w/ 2 levels \"0\",\"1\": 2 2 2 2 2 2 2 2 2 2 ...\n"
     ]
    }
   ],
   "source": [
    "str(cc)"
   ]
  },
  {
   "cell_type": "markdown",
   "id": "47b6ef08",
   "metadata": {},
   "source": [
    "**Scale Data:** \\\n",
    "It only makes sense to scale the numerical columns. Which are:\n",
    "CHILDREN, Annual_income, Employed_days, Family_Members, Age"
   ]
  },
  {
   "cell_type": "code",
   "execution_count": 104,
   "id": "2915e999",
   "metadata": {},
   "outputs": [
    {
     "data": {
      "text/html": [
       "<table class=\"dataframe\">\n",
       "<caption>A data.frame: 6 × 14</caption>\n",
       "<thead>\n",
       "\t<tr><th></th><th scope=col>GENDER</th><th scope=col>Car_Owner</th><th scope=col>Propert_Owner</th><th scope=col>CHILDREN</th><th scope=col>Annual_income</th><th scope=col>Type_Income</th><th scope=col>EDUCATION</th><th scope=col>Marital_status</th><th scope=col>Housing_type</th><th scope=col>Employed_days</th><th scope=col>Type_Occupation</th><th scope=col>Family_Members</th><th scope=col>Age</th><th scope=col>label</th></tr>\n",
       "\t<tr><th></th><th scope=col>&lt;fct&gt;</th><th scope=col>&lt;fct&gt;</th><th scope=col>&lt;fct&gt;</th><th scope=col>&lt;dbl&gt;</th><th scope=col>&lt;dbl&gt;</th><th scope=col>&lt;fct&gt;</th><th scope=col>&lt;fct&gt;</th><th scope=col>&lt;fct&gt;</th><th scope=col>&lt;fct&gt;</th><th scope=col>&lt;dbl&gt;</th><th scope=col>&lt;fct&gt;</th><th scope=col>&lt;dbl&gt;</th><th scope=col>&lt;dbl&gt;</th><th scope=col>&lt;fct&gt;</th></tr>\n",
       "</thead>\n",
       "<tbody>\n",
       "\t<tr><th scope=row>1</th><td>M</td><td>Y</td><td>Y</td><td>-0.5314733</td><td>-0.09808393</td><td>Pensioner           </td><td>Higher education</td><td>Married</td><td>House / apartment</td><td>-0.9224786</td><td>Laborers</td><td>-0.1703983</td><td> 0.65805297</td><td>1</td></tr>\n",
       "\t<tr><th scope=row>2</th><td>F</td><td>Y</td><td>N</td><td>-0.5314733</td><td> 1.10246741</td><td>Commercial associate</td><td>Higher education</td><td>Married</td><td>House / apartment</td><td>-0.6786456</td><td>Laborers</td><td>-0.1703983</td><td>-0.55899123</td><td>1</td></tr>\n",
       "\t<tr><th scope=row>3</th><td>F</td><td>Y</td><td>N</td><td>-0.5314733</td><td> 1.10246741</td><td>Commercial associate</td><td>Higher education</td><td>Married</td><td>House / apartment</td><td>-0.6786456</td><td>Laborers</td><td>-0.1703983</td><td>-0.03740086</td><td>1</td></tr>\n",
       "\t<tr><th scope=row>4</th><td>F</td><td>Y</td><td>N</td><td>-0.5314733</td><td>-0.21813907</td><td>Commercial associate</td><td>Higher education</td><td>Married</td><td>House / apartment</td><td>-0.6786456</td><td>Laborers</td><td>-0.1703983</td><td>-0.55899123</td><td>1</td></tr>\n",
       "\t<tr><th scope=row>5</th><td>F</td><td>Y</td><td>N</td><td>-0.5314733</td><td> 1.10246741</td><td>Commercial associate</td><td>Higher education</td><td>Married</td><td>House / apartment</td><td>-0.6786456</td><td>Laborers</td><td>-0.1703983</td><td>-0.55899123</td><td>1</td></tr>\n",
       "\t<tr><th scope=row>6</th><td>F</td><td>Y</td><td>N</td><td>-0.5314733</td><td> 1.10246741</td><td>Pensioner           </td><td>Higher education</td><td>Married</td><td>House / apartment</td><td>-0.6786456</td><td>Laborers</td><td>-0.1703983</td><td>-0.55899123</td><td>1</td></tr>\n",
       "</tbody>\n",
       "</table>\n"
      ],
      "text/latex": [
       "A data.frame: 6 × 14\n",
       "\\begin{tabular}{r|llllllllllllll}\n",
       "  & GENDER & Car\\_Owner & Propert\\_Owner & CHILDREN & Annual\\_income & Type\\_Income & EDUCATION & Marital\\_status & Housing\\_type & Employed\\_days & Type\\_Occupation & Family\\_Members & Age & label\\\\\n",
       "  & <fct> & <fct> & <fct> & <dbl> & <dbl> & <fct> & <fct> & <fct> & <fct> & <dbl> & <fct> & <dbl> & <dbl> & <fct>\\\\\n",
       "\\hline\n",
       "\t1 & M & Y & Y & -0.5314733 & -0.09808393 & Pensioner            & Higher education & Married & House / apartment & -0.9224786 & Laborers & -0.1703983 &  0.65805297 & 1\\\\\n",
       "\t2 & F & Y & N & -0.5314733 &  1.10246741 & Commercial associate & Higher education & Married & House / apartment & -0.6786456 & Laborers & -0.1703983 & -0.55899123 & 1\\\\\n",
       "\t3 & F & Y & N & -0.5314733 &  1.10246741 & Commercial associate & Higher education & Married & House / apartment & -0.6786456 & Laborers & -0.1703983 & -0.03740086 & 1\\\\\n",
       "\t4 & F & Y & N & -0.5314733 & -0.21813907 & Commercial associate & Higher education & Married & House / apartment & -0.6786456 & Laborers & -0.1703983 & -0.55899123 & 1\\\\\n",
       "\t5 & F & Y & N & -0.5314733 &  1.10246741 & Commercial associate & Higher education & Married & House / apartment & -0.6786456 & Laborers & -0.1703983 & -0.55899123 & 1\\\\\n",
       "\t6 & F & Y & N & -0.5314733 &  1.10246741 & Pensioner            & Higher education & Married & House / apartment & -0.6786456 & Laborers & -0.1703983 & -0.55899123 & 1\\\\\n",
       "\\end{tabular}\n"
      ],
      "text/markdown": [
       "\n",
       "A data.frame: 6 × 14\n",
       "\n",
       "| <!--/--> | GENDER &lt;fct&gt; | Car_Owner &lt;fct&gt; | Propert_Owner &lt;fct&gt; | CHILDREN &lt;dbl&gt; | Annual_income &lt;dbl&gt; | Type_Income &lt;fct&gt; | EDUCATION &lt;fct&gt; | Marital_status &lt;fct&gt; | Housing_type &lt;fct&gt; | Employed_days &lt;dbl&gt; | Type_Occupation &lt;fct&gt; | Family_Members &lt;dbl&gt; | Age &lt;dbl&gt; | label &lt;fct&gt; |\n",
       "|---|---|---|---|---|---|---|---|---|---|---|---|---|---|---|\n",
       "| 1 | M | Y | Y | -0.5314733 | -0.09808393 | Pensioner            | Higher education | Married | House / apartment | -0.9224786 | Laborers | -0.1703983 |  0.65805297 | 1 |\n",
       "| 2 | F | Y | N | -0.5314733 |  1.10246741 | Commercial associate | Higher education | Married | House / apartment | -0.6786456 | Laborers | -0.1703983 | -0.55899123 | 1 |\n",
       "| 3 | F | Y | N | -0.5314733 |  1.10246741 | Commercial associate | Higher education | Married | House / apartment | -0.6786456 | Laborers | -0.1703983 | -0.03740086 | 1 |\n",
       "| 4 | F | Y | N | -0.5314733 | -0.21813907 | Commercial associate | Higher education | Married | House / apartment | -0.6786456 | Laborers | -0.1703983 | -0.55899123 | 1 |\n",
       "| 5 | F | Y | N | -0.5314733 |  1.10246741 | Commercial associate | Higher education | Married | House / apartment | -0.6786456 | Laborers | -0.1703983 | -0.55899123 | 1 |\n",
       "| 6 | F | Y | N | -0.5314733 |  1.10246741 | Pensioner            | Higher education | Married | House / apartment | -0.6786456 | Laborers | -0.1703983 | -0.55899123 | 1 |\n",
       "\n"
      ],
      "text/plain": [
       "  GENDER Car_Owner Propert_Owner CHILDREN   Annual_income Type_Income         \n",
       "1 M      Y         Y             -0.5314733 -0.09808393   Pensioner           \n",
       "2 F      Y         N             -0.5314733  1.10246741   Commercial associate\n",
       "3 F      Y         N             -0.5314733  1.10246741   Commercial associate\n",
       "4 F      Y         N             -0.5314733 -0.21813907   Commercial associate\n",
       "5 F      Y         N             -0.5314733  1.10246741   Commercial associate\n",
       "6 F      Y         N             -0.5314733  1.10246741   Pensioner           \n",
       "  EDUCATION        Marital_status Housing_type      Employed_days\n",
       "1 Higher education Married        House / apartment -0.9224786   \n",
       "2 Higher education Married        House / apartment -0.6786456   \n",
       "3 Higher education Married        House / apartment -0.6786456   \n",
       "4 Higher education Married        House / apartment -0.6786456   \n",
       "5 Higher education Married        House / apartment -0.6786456   \n",
       "6 Higher education Married        House / apartment -0.6786456   \n",
       "  Type_Occupation Family_Members Age         label\n",
       "1 Laborers        -0.1703983      0.65805297 1    \n",
       "2 Laborers        -0.1703983     -0.55899123 1    \n",
       "3 Laborers        -0.1703983     -0.03740086 1    \n",
       "4 Laborers        -0.1703983     -0.55899123 1    \n",
       "5 Laborers        -0.1703983     -0.55899123 1    \n",
       "6 Laborers        -0.1703983     -0.55899123 1    "
      ]
     },
     "metadata": {},
     "output_type": "display_data"
    }
   ],
   "source": [
    "cc[,c(4, 5, 10, 12, 13)] = scale(cc[,c(4, 5, 10, 12, 13)])\n",
    "head(cc)"
   ]
  },
  {
   "cell_type": "code",
   "execution_count": 105,
   "id": "e4d7be05-c2bf-4803-8152-988083be7f0c",
   "metadata": {},
   "outputs": [
    {
     "data": {
      "text/plain": [
       "labels\n",
       "   0    1 \n",
       "1373  175 "
      ]
     },
     "metadata": {},
     "output_type": "display_data"
    }
   ],
   "source": [
    "#Our data is unbalanced, there are much more 0 labels than 1 labels.\n",
    "table(labels = cc$label)"
   ]
  },
  {
   "cell_type": "markdown",
   "id": "a04774d8-3201-4067-a33a-23d10eb44b45",
   "metadata": {},
   "source": [
    "In order to take into account the unbalanced data, we need to **under-sapmle** from the rows that have label 0 and **over-sample** from the rows that have label 1."
   ]
  },
  {
   "cell_type": "code",
   "execution_count": 106,
   "id": "9dd96d02-a609-479d-8fe0-ccf7e14407d9",
   "metadata": {},
   "outputs": [
    {
     "data": {
      "text/html": [
       "774"
      ],
      "text/latex": [
       "774"
      ],
      "text/markdown": [
       "774"
      ],
      "text/plain": [
       "[1] 774"
      ]
     },
     "metadata": {},
     "output_type": "display_data"
    }
   ],
   "source": [
    "#Under sampling from rows with label 0\n",
    "rows_0 = which(cc$label == 0)\n",
    "balance_rows_0= sort(sample(rows_0, 0.5 * nrow(cc)))\n",
    "length(balance_rows_0)"
   ]
  },
  {
   "cell_type": "code",
   "execution_count": 107,
   "id": "2890fc2f-5a3f-4f81-9ab3-8fc8c5756557",
   "metadata": {},
   "outputs": [
    {
     "data": {
      "text/html": [
       "774"
      ],
      "text/latex": [
       "774"
      ],
      "text/markdown": [
       "774"
      ],
      "text/plain": [
       "[1] 774"
      ]
     },
     "metadata": {},
     "output_type": "display_data"
    }
   ],
   "source": [
    "#Over sampling from rows with label 1\n",
    "rows_1 = which(cc$label == 1)\n",
    "balance_rows_1= sort(sample(rows_1, 0.5 * nrow(cc), replace = TRUE))\n",
    "length(balance_rows_1)"
   ]
  },
  {
   "cell_type": "code",
   "execution_count": 108,
   "id": "868dec8e-d39b-4f23-8340-54833143b8ab",
   "metadata": {},
   "outputs": [
    {
     "data": {
      "text/plain": [
       "labels\n",
       "  0   1 \n",
       "774 774 "
      ]
     },
     "metadata": {},
     "output_type": "display_data"
    }
   ],
   "source": [
    "#put them back together to create our balanced data set\n",
    "cc_balanced = cc[c(balance_rows_1, balance_rows_0),]\n",
    "table(labels = cc_balanced$label)"
   ]
  },
  {
   "cell_type": "code",
   "execution_count": 109,
   "id": "250af5f6-4b1d-459b-be81-b88c283f2d97",
   "metadata": {},
   "outputs": [
    {
     "data": {
      "text/html": [
       "<table class=\"dataframe\">\n",
       "<caption>A data.frame: 6 × 14</caption>\n",
       "<thead>\n",
       "\t<tr><th></th><th scope=col>GENDER</th><th scope=col>Car_Owner</th><th scope=col>Propert_Owner</th><th scope=col>CHILDREN</th><th scope=col>Annual_income</th><th scope=col>Type_Income</th><th scope=col>EDUCATION</th><th scope=col>Marital_status</th><th scope=col>Housing_type</th><th scope=col>Employed_days</th><th scope=col>Type_Occupation</th><th scope=col>Family_Members</th><th scope=col>Age</th><th scope=col>label</th></tr>\n",
       "\t<tr><th></th><th scope=col>&lt;fct&gt;</th><th scope=col>&lt;fct&gt;</th><th scope=col>&lt;fct&gt;</th><th scope=col>&lt;dbl&gt;</th><th scope=col>&lt;dbl&gt;</th><th scope=col>&lt;fct&gt;</th><th scope=col>&lt;fct&gt;</th><th scope=col>&lt;fct&gt;</th><th scope=col>&lt;fct&gt;</th><th scope=col>&lt;dbl&gt;</th><th scope=col>&lt;fct&gt;</th><th scope=col>&lt;dbl&gt;</th><th scope=col>&lt;dbl&gt;</th><th scope=col>&lt;fct&gt;</th></tr>\n",
       "</thead>\n",
       "<tbody>\n",
       "\t<tr><th scope=row>1</th><td>M</td><td>Y</td><td>Y</td><td>-0.5314733</td><td>-0.09808393</td><td>Pensioner</td><td>Higher education</td><td>Married</td><td>House / apartment</td><td>-0.9224786</td><td>Laborers</td><td>-0.1703983</td><td>0.658053</td><td>1</td></tr>\n",
       "\t<tr><th scope=row>1.1</th><td>M</td><td>Y</td><td>Y</td><td>-0.5314733</td><td>-0.09808393</td><td>Pensioner</td><td>Higher education</td><td>Married</td><td>House / apartment</td><td>-0.9224786</td><td>Laborers</td><td>-0.1703983</td><td>0.658053</td><td>1</td></tr>\n",
       "\t<tr><th scope=row>1.2</th><td>M</td><td>Y</td><td>Y</td><td>-0.5314733</td><td>-0.09808393</td><td>Pensioner</td><td>Higher education</td><td>Married</td><td>House / apartment</td><td>-0.9224786</td><td>Laborers</td><td>-0.1703983</td><td>0.658053</td><td>1</td></tr>\n",
       "\t<tr><th scope=row>1.3</th><td>M</td><td>Y</td><td>Y</td><td>-0.5314733</td><td>-0.09808393</td><td>Pensioner</td><td>Higher education</td><td>Married</td><td>House / apartment</td><td>-0.9224786</td><td>Laborers</td><td>-0.1703983</td><td>0.658053</td><td>1</td></tr>\n",
       "\t<tr><th scope=row>1.4</th><td>M</td><td>Y</td><td>Y</td><td>-0.5314733</td><td>-0.09808393</td><td>Pensioner</td><td>Higher education</td><td>Married</td><td>House / apartment</td><td>-0.9224786</td><td>Laborers</td><td>-0.1703983</td><td>0.658053</td><td>1</td></tr>\n",
       "\t<tr><th scope=row>1.5</th><td>M</td><td>Y</td><td>Y</td><td>-0.5314733</td><td>-0.09808393</td><td>Pensioner</td><td>Higher education</td><td>Married</td><td>House / apartment</td><td>-0.9224786</td><td>Laborers</td><td>-0.1703983</td><td>0.658053</td><td>1</td></tr>\n",
       "</tbody>\n",
       "</table>\n"
      ],
      "text/latex": [
       "A data.frame: 6 × 14\n",
       "\\begin{tabular}{r|llllllllllllll}\n",
       "  & GENDER & Car\\_Owner & Propert\\_Owner & CHILDREN & Annual\\_income & Type\\_Income & EDUCATION & Marital\\_status & Housing\\_type & Employed\\_days & Type\\_Occupation & Family\\_Members & Age & label\\\\\n",
       "  & <fct> & <fct> & <fct> & <dbl> & <dbl> & <fct> & <fct> & <fct> & <fct> & <dbl> & <fct> & <dbl> & <dbl> & <fct>\\\\\n",
       "\\hline\n",
       "\t1 & M & Y & Y & -0.5314733 & -0.09808393 & Pensioner & Higher education & Married & House / apartment & -0.9224786 & Laborers & -0.1703983 & 0.658053 & 1\\\\\n",
       "\t1.1 & M & Y & Y & -0.5314733 & -0.09808393 & Pensioner & Higher education & Married & House / apartment & -0.9224786 & Laborers & -0.1703983 & 0.658053 & 1\\\\\n",
       "\t1.2 & M & Y & Y & -0.5314733 & -0.09808393 & Pensioner & Higher education & Married & House / apartment & -0.9224786 & Laborers & -0.1703983 & 0.658053 & 1\\\\\n",
       "\t1.3 & M & Y & Y & -0.5314733 & -0.09808393 & Pensioner & Higher education & Married & House / apartment & -0.9224786 & Laborers & -0.1703983 & 0.658053 & 1\\\\\n",
       "\t1.4 & M & Y & Y & -0.5314733 & -0.09808393 & Pensioner & Higher education & Married & House / apartment & -0.9224786 & Laborers & -0.1703983 & 0.658053 & 1\\\\\n",
       "\t1.5 & M & Y & Y & -0.5314733 & -0.09808393 & Pensioner & Higher education & Married & House / apartment & -0.9224786 & Laborers & -0.1703983 & 0.658053 & 1\\\\\n",
       "\\end{tabular}\n"
      ],
      "text/markdown": [
       "\n",
       "A data.frame: 6 × 14\n",
       "\n",
       "| <!--/--> | GENDER &lt;fct&gt; | Car_Owner &lt;fct&gt; | Propert_Owner &lt;fct&gt; | CHILDREN &lt;dbl&gt; | Annual_income &lt;dbl&gt; | Type_Income &lt;fct&gt; | EDUCATION &lt;fct&gt; | Marital_status &lt;fct&gt; | Housing_type &lt;fct&gt; | Employed_days &lt;dbl&gt; | Type_Occupation &lt;fct&gt; | Family_Members &lt;dbl&gt; | Age &lt;dbl&gt; | label &lt;fct&gt; |\n",
       "|---|---|---|---|---|---|---|---|---|---|---|---|---|---|---|\n",
       "| 1 | M | Y | Y | -0.5314733 | -0.09808393 | Pensioner | Higher education | Married | House / apartment | -0.9224786 | Laborers | -0.1703983 | 0.658053 | 1 |\n",
       "| 1.1 | M | Y | Y | -0.5314733 | -0.09808393 | Pensioner | Higher education | Married | House / apartment | -0.9224786 | Laborers | -0.1703983 | 0.658053 | 1 |\n",
       "| 1.2 | M | Y | Y | -0.5314733 | -0.09808393 | Pensioner | Higher education | Married | House / apartment | -0.9224786 | Laborers | -0.1703983 | 0.658053 | 1 |\n",
       "| 1.3 | M | Y | Y | -0.5314733 | -0.09808393 | Pensioner | Higher education | Married | House / apartment | -0.9224786 | Laborers | -0.1703983 | 0.658053 | 1 |\n",
       "| 1.4 | M | Y | Y | -0.5314733 | -0.09808393 | Pensioner | Higher education | Married | House / apartment | -0.9224786 | Laborers | -0.1703983 | 0.658053 | 1 |\n",
       "| 1.5 | M | Y | Y | -0.5314733 | -0.09808393 | Pensioner | Higher education | Married | House / apartment | -0.9224786 | Laborers | -0.1703983 | 0.658053 | 1 |\n",
       "\n"
      ],
      "text/plain": [
       "    GENDER Car_Owner Propert_Owner CHILDREN   Annual_income Type_Income\n",
       "1   M      Y         Y             -0.5314733 -0.09808393   Pensioner  \n",
       "1.1 M      Y         Y             -0.5314733 -0.09808393   Pensioner  \n",
       "1.2 M      Y         Y             -0.5314733 -0.09808393   Pensioner  \n",
       "1.3 M      Y         Y             -0.5314733 -0.09808393   Pensioner  \n",
       "1.4 M      Y         Y             -0.5314733 -0.09808393   Pensioner  \n",
       "1.5 M      Y         Y             -0.5314733 -0.09808393   Pensioner  \n",
       "    EDUCATION        Marital_status Housing_type      Employed_days\n",
       "1   Higher education Married        House / apartment -0.9224786   \n",
       "1.1 Higher education Married        House / apartment -0.9224786   \n",
       "1.2 Higher education Married        House / apartment -0.9224786   \n",
       "1.3 Higher education Married        House / apartment -0.9224786   \n",
       "1.4 Higher education Married        House / apartment -0.9224786   \n",
       "1.5 Higher education Married        House / apartment -0.9224786   \n",
       "    Type_Occupation Family_Members Age      label\n",
       "1   Laborers        -0.1703983     0.658053 1    \n",
       "1.1 Laborers        -0.1703983     0.658053 1    \n",
       "1.2 Laborers        -0.1703983     0.658053 1    \n",
       "1.3 Laborers        -0.1703983     0.658053 1    \n",
       "1.4 Laborers        -0.1703983     0.658053 1    \n",
       "1.5 Laborers        -0.1703983     0.658053 1    "
      ]
     },
     "metadata": {},
     "output_type": "display_data"
    }
   ],
   "source": [
    "head(cc_balanced)"
   ]
  },
  {
   "cell_type": "markdown",
   "id": "8cbf7143-a2e4-496b-af3d-90bd99e739ca",
   "metadata": {},
   "source": [
    "**Split data to test and train** \\\n",
    "Now that we balanced our data set we can split 70% of the data into training set, by randomly selecting 70% of the number of rows of our data frame and putting the remaining into our test set."
   ]
  },
  {
   "cell_type": "code",
   "execution_count": 110,
   "id": "ec83f370",
   "metadata": {},
   "outputs": [],
   "source": [
    "set.seed(22)\n",
    "train_rows= sort(sample(nrow(cc_balanced), 0.7 * nrow(cc_balanced)))\n",
    "cc_train = cc_balanced[train_rows,]\n",
    "cc_test = cc_balanced[-train_rows,]"
   ]
  },
  {
   "cell_type": "markdown",
   "id": "f6a67105",
   "metadata": {},
   "source": [
    "**Logistic Regression**"
   ]
  },
  {
   "cell_type": "code",
   "execution_count": 111,
   "id": "e9acea00",
   "metadata": {},
   "outputs": [
    {
     "data": {
      "text/html": [
       "<strong>0:</strong> 0.50415512465374"
      ],
      "text/latex": [
       "\\textbf{0:} 0.50415512465374"
      ],
      "text/markdown": [
       "**0:** 0.50415512465374"
      ],
      "text/plain": [
       "        0 \n",
       "0.5041551 "
      ]
     },
     "metadata": {},
     "output_type": "display_data"
    },
    {
     "data": {
      "text/html": [
       "<strong>0:</strong> 0.490322580645161"
      ],
      "text/latex": [
       "\\textbf{0:} 0.490322580645161"
      ],
      "text/markdown": [
       "**0:** 0.490322580645161"
      ],
      "text/plain": [
       "        0 \n",
       "0.4903226 "
      ]
     },
     "metadata": {},
     "output_type": "display_data"
    }
   ],
   "source": [
    "table(cc_train$label)[1]/nrow(cc_train)\n",
    "table(cc_test$label)[1]/nrow(cc_test)"
   ]
  },
  {
   "cell_type": "markdown",
   "id": "4c2826a1",
   "metadata": {},
   "source": [
    "We see that label 1 is evenly distributed in both train and test sets now."
   ]
  },
  {
   "cell_type": "code",
   "execution_count": 112,
   "id": "7dc59372-0d9f-4cb9-a089-eb7778c437bc",
   "metadata": {},
   "outputs": [
    {
     "data": {
      "text/html": [
       "<table class=\"dataframe\">\n",
       "<caption>A data.frame: 6 × 14</caption>\n",
       "<thead>\n",
       "\t<tr><th></th><th scope=col>GENDER</th><th scope=col>Car_Owner</th><th scope=col>Propert_Owner</th><th scope=col>CHILDREN</th><th scope=col>Annual_income</th><th scope=col>Type_Income</th><th scope=col>EDUCATION</th><th scope=col>Marital_status</th><th scope=col>Housing_type</th><th scope=col>Employed_days</th><th scope=col>Type_Occupation</th><th scope=col>Family_Members</th><th scope=col>Age</th><th scope=col>label</th></tr>\n",
       "\t<tr><th></th><th scope=col>&lt;fct&gt;</th><th scope=col>&lt;fct&gt;</th><th scope=col>&lt;fct&gt;</th><th scope=col>&lt;dbl&gt;</th><th scope=col>&lt;dbl&gt;</th><th scope=col>&lt;fct&gt;</th><th scope=col>&lt;fct&gt;</th><th scope=col>&lt;fct&gt;</th><th scope=col>&lt;fct&gt;</th><th scope=col>&lt;dbl&gt;</th><th scope=col>&lt;fct&gt;</th><th scope=col>&lt;dbl&gt;</th><th scope=col>&lt;dbl&gt;</th><th scope=col>&lt;fct&gt;</th></tr>\n",
       "</thead>\n",
       "<tbody>\n",
       "\t<tr><th scope=row>1</th><td>M</td><td>Y</td><td>Y</td><td>-0.5314733</td><td>-0.09808393</td><td>Pensioner</td><td>Higher education</td><td>Married</td><td>House / apartment</td><td>-0.9224786</td><td>Laborers</td><td>-0.1703983</td><td>0.658053</td><td>1</td></tr>\n",
       "\t<tr><th scope=row>1.1</th><td>M</td><td>Y</td><td>Y</td><td>-0.5314733</td><td>-0.09808393</td><td>Pensioner</td><td>Higher education</td><td>Married</td><td>House / apartment</td><td>-0.9224786</td><td>Laborers</td><td>-0.1703983</td><td>0.658053</td><td>1</td></tr>\n",
       "\t<tr><th scope=row>1.2</th><td>M</td><td>Y</td><td>Y</td><td>-0.5314733</td><td>-0.09808393</td><td>Pensioner</td><td>Higher education</td><td>Married</td><td>House / apartment</td><td>-0.9224786</td><td>Laborers</td><td>-0.1703983</td><td>0.658053</td><td>1</td></tr>\n",
       "\t<tr><th scope=row>1.3</th><td>M</td><td>Y</td><td>Y</td><td>-0.5314733</td><td>-0.09808393</td><td>Pensioner</td><td>Higher education</td><td>Married</td><td>House / apartment</td><td>-0.9224786</td><td>Laborers</td><td>-0.1703983</td><td>0.658053</td><td>1</td></tr>\n",
       "\t<tr><th scope=row>1.4</th><td>M</td><td>Y</td><td>Y</td><td>-0.5314733</td><td>-0.09808393</td><td>Pensioner</td><td>Higher education</td><td>Married</td><td>House / apartment</td><td>-0.9224786</td><td>Laborers</td><td>-0.1703983</td><td>0.658053</td><td>1</td></tr>\n",
       "\t<tr><th scope=row>1.5</th><td>M</td><td>Y</td><td>Y</td><td>-0.5314733</td><td>-0.09808393</td><td>Pensioner</td><td>Higher education</td><td>Married</td><td>House / apartment</td><td>-0.9224786</td><td>Laborers</td><td>-0.1703983</td><td>0.658053</td><td>1</td></tr>\n",
       "</tbody>\n",
       "</table>\n"
      ],
      "text/latex": [
       "A data.frame: 6 × 14\n",
       "\\begin{tabular}{r|llllllllllllll}\n",
       "  & GENDER & Car\\_Owner & Propert\\_Owner & CHILDREN & Annual\\_income & Type\\_Income & EDUCATION & Marital\\_status & Housing\\_type & Employed\\_days & Type\\_Occupation & Family\\_Members & Age & label\\\\\n",
       "  & <fct> & <fct> & <fct> & <dbl> & <dbl> & <fct> & <fct> & <fct> & <fct> & <dbl> & <fct> & <dbl> & <dbl> & <fct>\\\\\n",
       "\\hline\n",
       "\t1 & M & Y & Y & -0.5314733 & -0.09808393 & Pensioner & Higher education & Married & House / apartment & -0.9224786 & Laborers & -0.1703983 & 0.658053 & 1\\\\\n",
       "\t1.1 & M & Y & Y & -0.5314733 & -0.09808393 & Pensioner & Higher education & Married & House / apartment & -0.9224786 & Laborers & -0.1703983 & 0.658053 & 1\\\\\n",
       "\t1.2 & M & Y & Y & -0.5314733 & -0.09808393 & Pensioner & Higher education & Married & House / apartment & -0.9224786 & Laborers & -0.1703983 & 0.658053 & 1\\\\\n",
       "\t1.3 & M & Y & Y & -0.5314733 & -0.09808393 & Pensioner & Higher education & Married & House / apartment & -0.9224786 & Laborers & -0.1703983 & 0.658053 & 1\\\\\n",
       "\t1.4 & M & Y & Y & -0.5314733 & -0.09808393 & Pensioner & Higher education & Married & House / apartment & -0.9224786 & Laborers & -0.1703983 & 0.658053 & 1\\\\\n",
       "\t1.5 & M & Y & Y & -0.5314733 & -0.09808393 & Pensioner & Higher education & Married & House / apartment & -0.9224786 & Laborers & -0.1703983 & 0.658053 & 1\\\\\n",
       "\\end{tabular}\n"
      ],
      "text/markdown": [
       "\n",
       "A data.frame: 6 × 14\n",
       "\n",
       "| <!--/--> | GENDER &lt;fct&gt; | Car_Owner &lt;fct&gt; | Propert_Owner &lt;fct&gt; | CHILDREN &lt;dbl&gt; | Annual_income &lt;dbl&gt; | Type_Income &lt;fct&gt; | EDUCATION &lt;fct&gt; | Marital_status &lt;fct&gt; | Housing_type &lt;fct&gt; | Employed_days &lt;dbl&gt; | Type_Occupation &lt;fct&gt; | Family_Members &lt;dbl&gt; | Age &lt;dbl&gt; | label &lt;fct&gt; |\n",
       "|---|---|---|---|---|---|---|---|---|---|---|---|---|---|---|\n",
       "| 1 | M | Y | Y | -0.5314733 | -0.09808393 | Pensioner | Higher education | Married | House / apartment | -0.9224786 | Laborers | -0.1703983 | 0.658053 | 1 |\n",
       "| 1.1 | M | Y | Y | -0.5314733 | -0.09808393 | Pensioner | Higher education | Married | House / apartment | -0.9224786 | Laborers | -0.1703983 | 0.658053 | 1 |\n",
       "| 1.2 | M | Y | Y | -0.5314733 | -0.09808393 | Pensioner | Higher education | Married | House / apartment | -0.9224786 | Laborers | -0.1703983 | 0.658053 | 1 |\n",
       "| 1.3 | M | Y | Y | -0.5314733 | -0.09808393 | Pensioner | Higher education | Married | House / apartment | -0.9224786 | Laborers | -0.1703983 | 0.658053 | 1 |\n",
       "| 1.4 | M | Y | Y | -0.5314733 | -0.09808393 | Pensioner | Higher education | Married | House / apartment | -0.9224786 | Laborers | -0.1703983 | 0.658053 | 1 |\n",
       "| 1.5 | M | Y | Y | -0.5314733 | -0.09808393 | Pensioner | Higher education | Married | House / apartment | -0.9224786 | Laborers | -0.1703983 | 0.658053 | 1 |\n",
       "\n"
      ],
      "text/plain": [
       "    GENDER Car_Owner Propert_Owner CHILDREN   Annual_income Type_Income\n",
       "1   M      Y         Y             -0.5314733 -0.09808393   Pensioner  \n",
       "1.1 M      Y         Y             -0.5314733 -0.09808393   Pensioner  \n",
       "1.2 M      Y         Y             -0.5314733 -0.09808393   Pensioner  \n",
       "1.3 M      Y         Y             -0.5314733 -0.09808393   Pensioner  \n",
       "1.4 M      Y         Y             -0.5314733 -0.09808393   Pensioner  \n",
       "1.5 M      Y         Y             -0.5314733 -0.09808393   Pensioner  \n",
       "    EDUCATION        Marital_status Housing_type      Employed_days\n",
       "1   Higher education Married        House / apartment -0.9224786   \n",
       "1.1 Higher education Married        House / apartment -0.9224786   \n",
       "1.2 Higher education Married        House / apartment -0.9224786   \n",
       "1.3 Higher education Married        House / apartment -0.9224786   \n",
       "1.4 Higher education Married        House / apartment -0.9224786   \n",
       "1.5 Higher education Married        House / apartment -0.9224786   \n",
       "    Type_Occupation Family_Members Age      label\n",
       "1   Laborers        -0.1703983     0.658053 1    \n",
       "1.1 Laborers        -0.1703983     0.658053 1    \n",
       "1.2 Laborers        -0.1703983     0.658053 1    \n",
       "1.3 Laborers        -0.1703983     0.658053 1    \n",
       "1.4 Laborers        -0.1703983     0.658053 1    \n",
       "1.5 Laborers        -0.1703983     0.658053 1    "
      ]
     },
     "metadata": {},
     "output_type": "display_data"
    }
   ],
   "source": [
    "head(cc_train)"
   ]
  },
  {
   "cell_type": "code",
   "execution_count": 113,
   "id": "b5b29bcb",
   "metadata": {
    "scrolled": true
   },
   "outputs": [
    {
     "data": {
      "text/plain": [
       "\n",
       "Call:\n",
       "glm(formula = label ~ ., family = \"binomial\", data = cc_train)\n",
       "\n",
       "Coefficients:\n",
       "                                         Estimate Std. Error z value Pr(>|z|)\n",
       "(Intercept)                               1.06401 1680.54842   0.001 0.999495\n",
       "GENDERM                                   0.32842    0.16411   2.001 0.045366\n",
       "Car_OwnerY                               -0.05642    0.15546  -0.363 0.716635\n",
       "Propert_OwnerY                           -0.19812    0.14717  -1.346 0.178250\n",
       "CHILDREN                                 -0.35782    0.29189  -1.226 0.220247\n",
       "Annual_income                             0.13672    0.08020   1.705 0.088251\n",
       "Type_IncomePensioner                      0.18109    0.27944   0.648 0.516964\n",
       "Type_IncomeState servant                 -1.43585    0.33735  -4.256 2.08e-05\n",
       "Type_IncomeWorking                       -0.38543    0.17831  -2.162 0.030649\n",
       "EDUCATIONHigher education                14.02218 1455.39760   0.010 0.992313\n",
       "EDUCATIONIncomplete higher               12.88257 1455.39763   0.009 0.992938\n",
       "EDUCATIONLower secondary                 15.45083 1455.39769   0.011 0.991530\n",
       "EDUCATIONSecondary / secondary special   13.84008 1455.39759   0.010 0.992413\n",
       "Marital_statusMarried                     0.67012    0.36835   1.819 0.068874\n",
       "Marital_statusSeparated                   2.28079    0.57930   3.937 8.25e-05\n",
       "Marital_statusSingle / not married        1.66791    0.50289   3.317 0.000911\n",
       "Marital_statusWidow                       1.26778    0.60802   2.085 0.037061\n",
       "Housing_typeHouse / apartment           -15.59548  840.27427  -0.019 0.985192\n",
       "Housing_typeMunicipal apartment         -14.48400  840.27435  -0.017 0.986247\n",
       "Housing_typeOffice apartment            -15.10481  840.27526  -0.018 0.985658\n",
       "Housing_typeRented apartment            -16.01818  840.27455  -0.019 0.984791\n",
       "Housing_typeWith parents                -15.88879  840.27434  -0.019 0.984914\n",
       "Employed_days                            -0.22281    0.09078  -2.454 0.014119\n",
       "Type_OccupationCleaning staff            -0.89713    0.76936  -1.166 0.243584\n",
       "Type_OccupationCooking staff              0.21800    0.67852   0.321 0.747997\n",
       "Type_OccupationCore staff                 0.25337    0.43748   0.579 0.562483\n",
       "Type_OccupationDrivers                    0.13828    0.50237   0.275 0.783115\n",
       "Type_OccupationHigh skill tech staff     -0.13151    0.51270  -0.257 0.797557\n",
       "Type_OccupationHR staff                 -15.86742 1455.39761  -0.011 0.991301\n",
       "Type_OccupationIT staff                  16.07100  650.87372   0.025 0.980301\n",
       "Type_OccupationLaborers                  -0.17875    0.41175  -0.434 0.664202\n",
       "Type_OccupationLow-skill Laborers         0.28930    0.84572   0.342 0.732296\n",
       "Type_OccupationManagers                  -0.06004    0.45530  -0.132 0.895091\n",
       "Type_OccupationMedicine staff            -0.38132    0.54312  -0.702 0.482623\n",
       "Type_OccupationPrivate service staff    -15.79110  564.83728  -0.028 0.977697\n",
       "Type_OccupationRealty agents            -14.85502 1455.39762  -0.010 0.991856\n",
       "Type_OccupationSales staff               -0.83148    0.47303  -1.758 0.078789\n",
       "Type_OccupationSecretaries              -16.10819 1455.39760  -0.011 0.991169\n",
       "Type_OccupationSecurity staff             1.44364    0.77282   1.868 0.061759\n",
       "Type_OccupationWaiters/barmen staff     -15.68954  870.58812  -0.018 0.985621\n",
       "Family_Members                            0.62665    0.34097   1.838 0.066089\n",
       "Age                                       0.02262    0.09970   0.227 0.820550\n",
       "                                          \n",
       "(Intercept)                               \n",
       "GENDERM                                *  \n",
       "Car_OwnerY                                \n",
       "Propert_OwnerY                            \n",
       "CHILDREN                                  \n",
       "Annual_income                          .  \n",
       "Type_IncomePensioner                      \n",
       "Type_IncomeState servant               ***\n",
       "Type_IncomeWorking                     *  \n",
       "EDUCATIONHigher education                 \n",
       "EDUCATIONIncomplete higher                \n",
       "EDUCATIONLower secondary                  \n",
       "EDUCATIONSecondary / secondary special    \n",
       "Marital_statusMarried                  .  \n",
       "Marital_statusSeparated                ***\n",
       "Marital_statusSingle / not married     ***\n",
       "Marital_statusWidow                    *  \n",
       "Housing_typeHouse / apartment             \n",
       "Housing_typeMunicipal apartment           \n",
       "Housing_typeOffice apartment              \n",
       "Housing_typeRented apartment              \n",
       "Housing_typeWith parents                  \n",
       "Employed_days                          *  \n",
       "Type_OccupationCleaning staff             \n",
       "Type_OccupationCooking staff              \n",
       "Type_OccupationCore staff                 \n",
       "Type_OccupationDrivers                    \n",
       "Type_OccupationHigh skill tech staff      \n",
       "Type_OccupationHR staff                   \n",
       "Type_OccupationIT staff                   \n",
       "Type_OccupationLaborers                   \n",
       "Type_OccupationLow-skill Laborers         \n",
       "Type_OccupationManagers                   \n",
       "Type_OccupationMedicine staff             \n",
       "Type_OccupationPrivate service staff      \n",
       "Type_OccupationRealty agents              \n",
       "Type_OccupationSales staff             .  \n",
       "Type_OccupationSecretaries                \n",
       "Type_OccupationSecurity staff          .  \n",
       "Type_OccupationWaiters/barmen staff       \n",
       "Family_Members                         .  \n",
       "Age                                       \n",
       "---\n",
       "Signif. codes:  0 '***' 0.001 '**' 0.01 '*' 0.05 '.' 0.1 ' ' 1\n",
       "\n",
       "(Dispersion parameter for binomial family taken to be 1)\n",
       "\n",
       "    Null deviance: 1501.3  on 1082  degrees of freedom\n",
       "Residual deviance: 1333.7  on 1041  degrees of freedom\n",
       "AIC: 1417.7\n",
       "\n",
       "Number of Fisher Scoring iterations: 14\n"
      ]
     },
     "metadata": {},
     "output_type": "display_data"
    }
   ],
   "source": [
    "#Implement logistic regression model\n",
    "set.seed(22)\n",
    "log_model = glm(label ~ ., data = cc_train, family = \"binomial\")\n",
    "summary(log_model)"
   ]
  },
  {
   "cell_type": "markdown",
   "id": "20c5b358-0431-48ea-89e4-67694580e15a",
   "metadata": {},
   "source": [
    "Let's see which features had smaller p-values in our full model. This means the features that our model estimated to have more effect on predicting our outcomes."
   ]
  },
  {
   "cell_type": "code",
   "execution_count": 114,
   "id": "ac32d8c6-9e96-45cb-8b71-0d76a1f5f0a9",
   "metadata": {},
   "outputs": [
    {
     "data": {
      "text/html": [
       "<table class=\"dataframe\">\n",
       "<caption>A matrix: 7 × 4 of type dbl</caption>\n",
       "<thead>\n",
       "\t<tr><th></th><th scope=col>Estimate</th><th scope=col>Std. Error</th><th scope=col>z value</th><th scope=col>Pr(&gt;|z|)</th></tr>\n",
       "</thead>\n",
       "<tbody>\n",
       "\t<tr><th scope=row>GENDERM</th><td> 0.3284196</td><td>0.16410782</td><td> 2.001243</td><td>4.536622e-02</td></tr>\n",
       "\t<tr><th scope=row>Type_IncomeState servant</th><td>-1.4358486</td><td>0.33734600</td><td>-4.256308</td><td>2.078299e-05</td></tr>\n",
       "\t<tr><th scope=row>Type_IncomeWorking</th><td>-0.3854322</td><td>0.17830887</td><td>-2.161598</td><td>3.064914e-02</td></tr>\n",
       "\t<tr><th scope=row>Marital_statusSeparated</th><td> 2.2807854</td><td>0.57929881</td><td> 3.937149</td><td>8.245558e-05</td></tr>\n",
       "\t<tr><th scope=row>Marital_statusSingle / not married</th><td> 1.6679064</td><td>0.50289408</td><td> 3.316616</td><td>9.111485e-04</td></tr>\n",
       "\t<tr><th scope=row>Marital_statusWidow</th><td> 1.2677790</td><td>0.60802209</td><td> 2.085087</td><td>3.706139e-02</td></tr>\n",
       "\t<tr><th scope=row>Employed_days</th><td>-0.2228051</td><td>0.09078447</td><td>-2.454221</td><td>1.411902e-02</td></tr>\n",
       "</tbody>\n",
       "</table>\n"
      ],
      "text/latex": [
       "A matrix: 7 × 4 of type dbl\n",
       "\\begin{tabular}{r|llll}\n",
       "  & Estimate & Std. Error & z value & Pr(>\\textbar{}z\\textbar{})\\\\\n",
       "\\hline\n",
       "\tGENDERM &  0.3284196 & 0.16410782 &  2.001243 & 4.536622e-02\\\\\n",
       "\tType\\_IncomeState servant & -1.4358486 & 0.33734600 & -4.256308 & 2.078299e-05\\\\\n",
       "\tType\\_IncomeWorking & -0.3854322 & 0.17830887 & -2.161598 & 3.064914e-02\\\\\n",
       "\tMarital\\_statusSeparated &  2.2807854 & 0.57929881 &  3.937149 & 8.245558e-05\\\\\n",
       "\tMarital\\_statusSingle / not married &  1.6679064 & 0.50289408 &  3.316616 & 9.111485e-04\\\\\n",
       "\tMarital\\_statusWidow &  1.2677790 & 0.60802209 &  2.085087 & 3.706139e-02\\\\\n",
       "\tEmployed\\_days & -0.2228051 & 0.09078447 & -2.454221 & 1.411902e-02\\\\\n",
       "\\end{tabular}\n"
      ],
      "text/markdown": [
       "\n",
       "A matrix: 7 × 4 of type dbl\n",
       "\n",
       "| <!--/--> | Estimate | Std. Error | z value | Pr(&gt;|z|) |\n",
       "|---|---|---|---|---|\n",
       "| GENDERM |  0.3284196 | 0.16410782 |  2.001243 | 4.536622e-02 |\n",
       "| Type_IncomeState servant | -1.4358486 | 0.33734600 | -4.256308 | 2.078299e-05 |\n",
       "| Type_IncomeWorking | -0.3854322 | 0.17830887 | -2.161598 | 3.064914e-02 |\n",
       "| Marital_statusSeparated |  2.2807854 | 0.57929881 |  3.937149 | 8.245558e-05 |\n",
       "| Marital_statusSingle / not married |  1.6679064 | 0.50289408 |  3.316616 | 9.111485e-04 |\n",
       "| Marital_statusWidow |  1.2677790 | 0.60802209 |  2.085087 | 3.706139e-02 |\n",
       "| Employed_days | -0.2228051 | 0.09078447 | -2.454221 | 1.411902e-02 |\n",
       "\n"
      ],
      "text/plain": [
       "                                   Estimate   Std. Error z value   Pr(>|z|)    \n",
       "GENDERM                             0.3284196 0.16410782  2.001243 4.536622e-02\n",
       "Type_IncomeState servant           -1.4358486 0.33734600 -4.256308 2.078299e-05\n",
       "Type_IncomeWorking                 -0.3854322 0.17830887 -2.161598 3.064914e-02\n",
       "Marital_statusSeparated             2.2807854 0.57929881  3.937149 8.245558e-05\n",
       "Marital_statusSingle / not married  1.6679064 0.50289408  3.316616 9.111485e-04\n",
       "Marital_statusWidow                 1.2677790 0.60802209  2.085087 3.706139e-02\n",
       "Employed_days                      -0.2228051 0.09078447 -2.454221 1.411902e-02"
      ]
     },
     "metadata": {},
     "output_type": "display_data"
    }
   ],
   "source": [
    "alpha = 0.05\n",
    "summary(log_model)$coef[which(summary(log_model)$coef[,4] < alpha),]"
   ]
  },
  {
   "cell_type": "markdown",
   "id": "296913cf-0e59-4046-860d-188b7b5d4c75",
   "metadata": {},
   "source": [
    "In our logistic regression model, above features are playing a role in predicting the application rejection status."
   ]
  },
  {
   "cell_type": "markdown",
   "id": "3e5f7105-c752-49ba-8adf-072371ae7eff",
   "metadata": {},
   "source": [
    "**Logistic Regression Test Accuracy**"
   ]
  },
  {
   "cell_type": "markdown",
   "id": "1f345e78-58f1-4085-88a1-f820de435b99",
   "metadata": {},
   "source": [
    "Now we want to see how accurate our model was:"
   ]
  },
  {
   "cell_type": "code",
   "execution_count": 115,
   "id": "8f4c4fd2",
   "metadata": {
    "scrolled": true
   },
   "outputs": [],
   "source": [
    "#what our model predicted\n",
    "predict_labels_prob = predict(log_model, newdata = cc_test, type = \"response\")\n",
    "predict_labels = ifelse(predict_labels_prob <0.5, 0, 1)"
   ]
  },
  {
   "cell_type": "code",
   "execution_count": 116,
   "id": "4459247a-a3f3-4602-b3dc-2f694d40e632",
   "metadata": {},
   "outputs": [
    {
     "data": {
      "text/plain": [
       "Confusion Matrix and Statistics\n",
       "\n",
       "           actual_labels\n",
       "predictions   0   1\n",
       "          0 144  70\n",
       "          1  84 167\n",
       "                                         \n",
       "               Accuracy : 0.6688         \n",
       "                 95% CI : (0.624, 0.7115)\n",
       "    No Information Rate : 0.5097         \n",
       "    P-Value [Acc > NIR] : 2.782e-12      \n",
       "                                         \n",
       "                  Kappa : 0.3366         \n",
       "                                         \n",
       " Mcnemar's Test P-Value : 0.2948         \n",
       "                                         \n",
       "            Sensitivity : 0.6316         \n",
       "            Specificity : 0.7046         \n",
       "         Pos Pred Value : 0.6729         \n",
       "         Neg Pred Value : 0.6653         \n",
       "             Prevalence : 0.4903         \n",
       "         Detection Rate : 0.3097         \n",
       "   Detection Prevalence : 0.4602         \n",
       "      Balanced Accuracy : 0.6681         \n",
       "                                         \n",
       "       'Positive' Class : 0              \n",
       "                                         "
      ]
     },
     "metadata": {},
     "output_type": "display_data"
    }
   ],
   "source": [
    "t = table(predictions = predict_labels, actual_labels = cc_test$label)\n",
    "confusionMatrix(t)"
   ]
  },
  {
   "cell_type": "markdown",
   "id": "4b629a87-5c39-4205-937e-ee567252958d",
   "metadata": {},
   "source": [
    "The **logistic regression model accuracy score is 0.66** which means by setting the **threshold as 0.5**, our model would be able to predict 66% of our data correctly. This is a moderate accuracy score."
   ]
  },
  {
   "cell_type": "markdown",
   "id": "0304ec9e",
   "metadata": {},
   "source": [
    "We can also check out the **ROC curve** of our model too."
   ]
  },
  {
   "cell_type": "code",
   "execution_count": 117,
   "id": "6da6f657",
   "metadata": {},
   "outputs": [
    {
     "name": "stderr",
     "output_type": "stream",
     "text": [
      "Setting levels: control = 0, case = 1\n",
      "\n",
      "Setting direction: controls < cases\n",
      "\n"
     ]
    },
    {
     "name": "stdout",
     "output_type": "stream",
     "text": [
      "Area under the curve: 0.6681\n"
     ]
    }
   ],
   "source": [
    "roc_obj = roc(cc_test$label, predict_labels)\n",
    "\n",
    "#get the AUC\n",
    "auc_value = auc(roc_obj)\n",
    "print(auc_value)"
   ]
  },
  {
   "cell_type": "code",
   "execution_count": 118,
   "id": "506f5f70",
   "metadata": {},
   "outputs": [
    {
     "data": {
      "image/png": "[encoded data removed]",
      "text/plain": [
       "Plot with title \"ROC and AUC = 0.6681\""
      ]
     },
     "metadata": {
      "image/png": {
       "height": 360,
       "width": 480
      }
     },
     "output_type": "display_data"
    }
   ],
   "source": [
    "options(repr.plot.width =8 , repr.plot.height =6)\n",
    "\n",
    "plot(roc_obj, main = paste(\"ROC and AUC =\", round(auc_value, 4)))"
   ]
  },
  {
   "cell_type": "markdown",
   "id": "16ad299f-b1e3-45b6-8e95-2b92ca04cc28",
   "metadata": {},
   "source": [
    "The Roc curve is not so much great, for incresing the sensitivity of our model, it sacrifices the specificity of it a lot. \\\n",
    "This means for being able to predict rejected applications correctly(label = 1), it will also predict some approved (label = 0) ones as rejected (label = 1). "
   ]
  },
  {
   "cell_type": "markdown",
   "id": "5e59856a",
   "metadata": {},
   "source": [
    "**XGBoost on unbalanced classes**"
   ]
  },
  {
   "cell_type": "code",
   "execution_count": 119,
   "id": "92786ddf",
   "metadata": {},
   "outputs": [
    {
     "data": {
      "text/html": [
       "<table class=\"dataframe\">\n",
       "<caption>A data.frame: 6 × 41</caption>\n",
       "<thead>\n",
       "\t<tr><th></th><th scope=col>GENDER.M</th><th scope=col>Car_Owner.Y</th><th scope=col>Propert_Owner.Y</th><th scope=col>CHILDREN</th><th scope=col>Annual_income</th><th scope=col>Type_Income.Pensioner</th><th scope=col>Type_Income.State.servant</th><th scope=col>Type_Income.Working</th><th scope=col>EDUCATION.Higher.education</th><th scope=col>EDUCATION.Incomplete.higher</th><th scope=col>⋯</th><th scope=col>Type_Occupation.Managers</th><th scope=col>Type_Occupation.Medicine.staff</th><th scope=col>Type_Occupation.Private.service.staff</th><th scope=col>Type_Occupation.Realty.agents</th><th scope=col>Type_Occupation.Sales.staff</th><th scope=col>Type_Occupation.Secretaries</th><th scope=col>Type_Occupation.Security.staff</th><th scope=col>Type_Occupation.Waiters.barmen.staff</th><th scope=col>Family_Members</th><th scope=col>Age</th></tr>\n",
       "\t<tr><th></th><th scope=col>&lt;dbl&gt;</th><th scope=col>&lt;dbl&gt;</th><th scope=col>&lt;dbl&gt;</th><th scope=col>&lt;dbl&gt;</th><th scope=col>&lt;dbl&gt;</th><th scope=col>&lt;dbl&gt;</th><th scope=col>&lt;dbl&gt;</th><th scope=col>&lt;dbl&gt;</th><th scope=col>&lt;dbl&gt;</th><th scope=col>&lt;dbl&gt;</th><th scope=col>⋯</th><th scope=col>&lt;dbl&gt;</th><th scope=col>&lt;dbl&gt;</th><th scope=col>&lt;dbl&gt;</th><th scope=col>&lt;dbl&gt;</th><th scope=col>&lt;dbl&gt;</th><th scope=col>&lt;dbl&gt;</th><th scope=col>&lt;dbl&gt;</th><th scope=col>&lt;dbl&gt;</th><th scope=col>&lt;dbl&gt;</th><th scope=col>&lt;dbl&gt;</th></tr>\n",
       "</thead>\n",
       "<tbody>\n",
       "\t<tr><th scope=row>1</th><td>1</td><td>1</td><td>1</td><td>-0.5314733</td><td>-0.09808393</td><td>1</td><td>0</td><td>0</td><td>1</td><td>0</td><td>⋯</td><td>0</td><td>0</td><td>0</td><td>0</td><td>0</td><td>0</td><td>0</td><td>0</td><td>-0.1703983</td><td> 0.65805297</td></tr>\n",
       "\t<tr><th scope=row>2</th><td>0</td><td>1</td><td>0</td><td>-0.5314733</td><td> 1.10246741</td><td>0</td><td>0</td><td>0</td><td>1</td><td>0</td><td>⋯</td><td>0</td><td>0</td><td>0</td><td>0</td><td>0</td><td>0</td><td>0</td><td>0</td><td>-0.1703983</td><td>-0.55899123</td></tr>\n",
       "\t<tr><th scope=row>3</th><td>0</td><td>1</td><td>0</td><td>-0.5314733</td><td> 1.10246741</td><td>0</td><td>0</td><td>0</td><td>1</td><td>0</td><td>⋯</td><td>0</td><td>0</td><td>0</td><td>0</td><td>0</td><td>0</td><td>0</td><td>0</td><td>-0.1703983</td><td>-0.03740086</td></tr>\n",
       "\t<tr><th scope=row>4</th><td>0</td><td>1</td><td>0</td><td>-0.5314733</td><td>-0.21813907</td><td>0</td><td>0</td><td>0</td><td>1</td><td>0</td><td>⋯</td><td>0</td><td>0</td><td>0</td><td>0</td><td>0</td><td>0</td><td>0</td><td>0</td><td>-0.1703983</td><td>-0.55899123</td></tr>\n",
       "\t<tr><th scope=row>5</th><td>0</td><td>1</td><td>0</td><td>-0.5314733</td><td> 1.10246741</td><td>0</td><td>0</td><td>0</td><td>1</td><td>0</td><td>⋯</td><td>0</td><td>0</td><td>0</td><td>0</td><td>0</td><td>0</td><td>0</td><td>0</td><td>-0.1703983</td><td>-0.55899123</td></tr>\n",
       "\t<tr><th scope=row>6</th><td>0</td><td>1</td><td>0</td><td>-0.5314733</td><td> 1.10246741</td><td>1</td><td>0</td><td>0</td><td>1</td><td>0</td><td>⋯</td><td>0</td><td>0</td><td>0</td><td>0</td><td>0</td><td>0</td><td>0</td><td>0</td><td>-0.1703983</td><td>-0.55899123</td></tr>\n",
       "</tbody>\n",
       "</table>\n"
      ],
      "text/latex": [
       "A data.frame: 6 × 41\n",
       "\\begin{tabular}{r|lllllllllllllllllllll}\n",
       "  & GENDER.M & Car\\_Owner.Y & Propert\\_Owner.Y & CHILDREN & Annual\\_income & Type\\_Income.Pensioner & Type\\_Income.State.servant & Type\\_Income.Working & EDUCATION.Higher.education & EDUCATION.Incomplete.higher & ⋯ & Type\\_Occupation.Managers & Type\\_Occupation.Medicine.staff & Type\\_Occupation.Private.service.staff & Type\\_Occupation.Realty.agents & Type\\_Occupation.Sales.staff & Type\\_Occupation.Secretaries & Type\\_Occupation.Security.staff & Type\\_Occupation.Waiters.barmen.staff & Family\\_Members & Age\\\\\n",
       "  & <dbl> & <dbl> & <dbl> & <dbl> & <dbl> & <dbl> & <dbl> & <dbl> & <dbl> & <dbl> & ⋯ & <dbl> & <dbl> & <dbl> & <dbl> & <dbl> & <dbl> & <dbl> & <dbl> & <dbl> & <dbl>\\\\\n",
       "\\hline\n",
       "\t1 & 1 & 1 & 1 & -0.5314733 & -0.09808393 & 1 & 0 & 0 & 1 & 0 & ⋯ & 0 & 0 & 0 & 0 & 0 & 0 & 0 & 0 & -0.1703983 &  0.65805297\\\\\n",
       "\t2 & 0 & 1 & 0 & -0.5314733 &  1.10246741 & 0 & 0 & 0 & 1 & 0 & ⋯ & 0 & 0 & 0 & 0 & 0 & 0 & 0 & 0 & -0.1703983 & -0.55899123\\\\\n",
       "\t3 & 0 & 1 & 0 & -0.5314733 &  1.10246741 & 0 & 0 & 0 & 1 & 0 & ⋯ & 0 & 0 & 0 & 0 & 0 & 0 & 0 & 0 & -0.1703983 & -0.03740086\\\\\n",
       "\t4 & 0 & 1 & 0 & -0.5314733 & -0.21813907 & 0 & 0 & 0 & 1 & 0 & ⋯ & 0 & 0 & 0 & 0 & 0 & 0 & 0 & 0 & -0.1703983 & -0.55899123\\\\\n",
       "\t5 & 0 & 1 & 0 & -0.5314733 &  1.10246741 & 0 & 0 & 0 & 1 & 0 & ⋯ & 0 & 0 & 0 & 0 & 0 & 0 & 0 & 0 & -0.1703983 & -0.55899123\\\\\n",
       "\t6 & 0 & 1 & 0 & -0.5314733 &  1.10246741 & 1 & 0 & 0 & 1 & 0 & ⋯ & 0 & 0 & 0 & 0 & 0 & 0 & 0 & 0 & -0.1703983 & -0.55899123\\\\\n",
       "\\end{tabular}\n"
      ],
      "text/markdown": [
       "\n",
       "A data.frame: 6 × 41\n",
       "\n",
       "| <!--/--> | GENDER.M &lt;dbl&gt; | Car_Owner.Y &lt;dbl&gt; | Propert_Owner.Y &lt;dbl&gt; | CHILDREN &lt;dbl&gt; | Annual_income &lt;dbl&gt; | Type_Income.Pensioner &lt;dbl&gt; | Type_Income.State.servant &lt;dbl&gt; | Type_Income.Working &lt;dbl&gt; | EDUCATION.Higher.education &lt;dbl&gt; | EDUCATION.Incomplete.higher &lt;dbl&gt; | ⋯ ⋯ | Type_Occupation.Managers &lt;dbl&gt; | Type_Occupation.Medicine.staff &lt;dbl&gt; | Type_Occupation.Private.service.staff &lt;dbl&gt; | Type_Occupation.Realty.agents &lt;dbl&gt; | Type_Occupation.Sales.staff &lt;dbl&gt; | Type_Occupation.Secretaries &lt;dbl&gt; | Type_Occupation.Security.staff &lt;dbl&gt; | Type_Occupation.Waiters.barmen.staff &lt;dbl&gt; | Family_Members &lt;dbl&gt; | Age &lt;dbl&gt; |\n",
       "|---|---|---|---|---|---|---|---|---|---|---|---|---|---|---|---|---|---|---|---|---|---|\n",
       "| 1 | 1 | 1 | 1 | -0.5314733 | -0.09808393 | 1 | 0 | 0 | 1 | 0 | ⋯ | 0 | 0 | 0 | 0 | 0 | 0 | 0 | 0 | -0.1703983 |  0.65805297 |\n",
       "| 2 | 0 | 1 | 0 | -0.5314733 |  1.10246741 | 0 | 0 | 0 | 1 | 0 | ⋯ | 0 | 0 | 0 | 0 | 0 | 0 | 0 | 0 | -0.1703983 | -0.55899123 |\n",
       "| 3 | 0 | 1 | 0 | -0.5314733 |  1.10246741 | 0 | 0 | 0 | 1 | 0 | ⋯ | 0 | 0 | 0 | 0 | 0 | 0 | 0 | 0 | -0.1703983 | -0.03740086 |\n",
       "| 4 | 0 | 1 | 0 | -0.5314733 | -0.21813907 | 0 | 0 | 0 | 1 | 0 | ⋯ | 0 | 0 | 0 | 0 | 0 | 0 | 0 | 0 | -0.1703983 | -0.55899123 |\n",
       "| 5 | 0 | 1 | 0 | -0.5314733 |  1.10246741 | 0 | 0 | 0 | 1 | 0 | ⋯ | 0 | 0 | 0 | 0 | 0 | 0 | 0 | 0 | -0.1703983 | -0.55899123 |\n",
       "| 6 | 0 | 1 | 0 | -0.5314733 |  1.10246741 | 1 | 0 | 0 | 1 | 0 | ⋯ | 0 | 0 | 0 | 0 | 0 | 0 | 0 | 0 | -0.1703983 | -0.55899123 |\n",
       "\n"
      ],
      "text/plain": [
       "  GENDER.M Car_Owner.Y Propert_Owner.Y CHILDREN   Annual_income\n",
       "1 1        1           1               -0.5314733 -0.09808393  \n",
       "2 0        1           0               -0.5314733  1.10246741  \n",
       "3 0        1           0               -0.5314733  1.10246741  \n",
       "4 0        1           0               -0.5314733 -0.21813907  \n",
       "5 0        1           0               -0.5314733  1.10246741  \n",
       "6 0        1           0               -0.5314733  1.10246741  \n",
       "  Type_Income.Pensioner Type_Income.State.servant Type_Income.Working\n",
       "1 1                     0                         0                  \n",
       "2 0                     0                         0                  \n",
       "3 0                     0                         0                  \n",
       "4 0                     0                         0                  \n",
       "5 0                     0                         0                  \n",
       "6 1                     0                         0                  \n",
       "  EDUCATION.Higher.education EDUCATION.Incomplete.higher ⋯\n",
       "1 1                          0                           ⋯\n",
       "2 1                          0                           ⋯\n",
       "3 1                          0                           ⋯\n",
       "4 1                          0                           ⋯\n",
       "5 1                          0                           ⋯\n",
       "6 1                          0                           ⋯\n",
       "  Type_Occupation.Managers Type_Occupation.Medicine.staff\n",
       "1 0                        0                             \n",
       "2 0                        0                             \n",
       "3 0                        0                             \n",
       "4 0                        0                             \n",
       "5 0                        0                             \n",
       "6 0                        0                             \n",
       "  Type_Occupation.Private.service.staff Type_Occupation.Realty.agents\n",
       "1 0                                     0                            \n",
       "2 0                                     0                            \n",
       "3 0                                     0                            \n",
       "4 0                                     0                            \n",
       "5 0                                     0                            \n",
       "6 0                                     0                            \n",
       "  Type_Occupation.Sales.staff Type_Occupation.Secretaries\n",
       "1 0                           0                          \n",
       "2 0                           0                          \n",
       "3 0                           0                          \n",
       "4 0                           0                          \n",
       "5 0                           0                          \n",
       "6 0                           0                          \n",
       "  Type_Occupation.Security.staff Type_Occupation.Waiters.barmen.staff\n",
       "1 0                              0                                   \n",
       "2 0                              0                                   \n",
       "3 0                              0                                   \n",
       "4 0                              0                                   \n",
       "5 0                              0                                   \n",
       "6 0                              0                                   \n",
       "  Family_Members Age        \n",
       "1 -0.1703983      0.65805297\n",
       "2 -0.1703983     -0.55899123\n",
       "3 -0.1703983     -0.03740086\n",
       "4 -0.1703983     -0.55899123\n",
       "5 -0.1703983     -0.55899123\n",
       "6 -0.1703983     -0.55899123"
      ]
     },
     "metadata": {},
     "output_type": "display_data"
    }
   ],
   "source": [
    "#Dummify our features to be able to use it in xgboost model\n",
    "#Use fullRank option to have one less variable than the number of categories to avoid collinearity\n",
    "dmy = dummyVars(\" ~ .\", data=cc[,-14], fullRank=T)\n",
    "cc_dmy <- data.frame(predict(dmy, newdata = cc[,-14]))\n",
    "head(cc_dmy)"
   ]
  },
  {
   "cell_type": "code",
   "execution_count": 125,
   "id": "3df9a36b-253d-4826-b7d7-a83d5f8ee923",
   "metadata": {
    "scrolled": true
   },
   "outputs": [],
   "source": [
    "#Split our data into train and test again\n",
    "set.seed(50)\n",
    "train_indices_dmy= sort(sample(nrow(cc_dmy), 0.7 * nrow(cc_dmy)))\n",
    "cc_train_dmy = cc_dmy[train_indices_dmy,]\n",
    "cc_test_dmy = cc_dmy[-train_indices_dmy,]"
   ]
  },
  {
   "cell_type": "code",
   "execution_count": 126,
   "id": "74806e03",
   "metadata": {},
   "outputs": [
    {
     "data": {
      "text/plain": [
       "labels\n",
       "  0   1 \n",
       "963 120 "
      ]
     },
     "metadata": {},
     "output_type": "display_data"
    }
   ],
   "source": [
    "#positive and negative cases and their distribution in the train set\n",
    "train_labels = cc$label[train_indices_dmy]\n",
    "positive_cases = sum(train_labels == 1)\n",
    "negative_cases = sum(train_labels == 0)\n",
    "table(labels = train_labels)"
   ]
  },
  {
   "cell_type": "code",
   "execution_count": 127,
   "id": "6dd658bf",
   "metadata": {},
   "outputs": [
    {
     "data": {
      "text/html": [
       "8.025"
      ],
      "text/latex": [
       "8.025"
      ],
      "text/markdown": [
       "8.025"
      ],
      "text/plain": [
       "[1] 8.025"
      ]
     },
     "metadata": {},
     "output_type": "display_data"
    }
   ],
   "source": [
    "#accounting the unbalanced data\n",
    "scale_pos_weight_value = negative_cases / positive_cases\n",
    "scale_pos_weight_value"
   ]
  },
  {
   "cell_type": "markdown",
   "id": "18303617-4877-47c4-a1e3-d03436b15b0b",
   "metadata": {},
   "source": [
    "**Implement XGboost model**"
   ]
  },
  {
   "cell_type": "code",
   "execution_count": 128,
   "id": "887ac0c0-8c63-4dbc-bad7-7273eb922a16",
   "metadata": {},
   "outputs": [],
   "source": [
    "#XGboost matrix\n",
    "dtrain = xgb.DMatrix(data = as.matrix(cc_train_dmy), \n",
    "                     label = as.numeric(cc$label[train_indices_dmy]) - 1)\n",
    "\n",
    "dtest = xgb.DMatrix(data = as.matrix(cc_test_dmy), \n",
    "                    label = as.numeric(cc$label[-train_indices_dmy]) - 1)\n",
    "\n",
    "#Since our label column only has 2 levels, we will set our XGboost loss function to a binary classification\n",
    "# Train the model\n",
    "xgb_model = xgb.train(data = dtrain, \n",
    "                      nrounds = 100,\n",
    "                     objective = \"binary:logistic\",\n",
    "                     scale_pos_weight = scale_pos_weight_value)"
   ]
  },
  {
   "cell_type": "code",
   "execution_count": 129,
   "id": "c1d75807-15d7-4699-8787-1aee0a5e29be",
   "metadata": {},
   "outputs": [],
   "source": [
    "# Predictions\n",
    "predicted_labels = predict(xgb_model, newdata = dtest, type = \"response\")\n",
    "predicted_labels = ifelse(predicted_labels > 0.5, 1, 0)"
   ]
  },
  {
   "cell_type": "markdown",
   "id": "7ee03e2d-82fa-4ce2-a785-1d1697f4c6c7",
   "metadata": {},
   "source": [
    "**XGBoost Test Accuracy**"
   ]
  },
  {
   "cell_type": "code",
   "execution_count": 130,
   "id": "c88d37e2-b260-40dc-89ff-83779031472b",
   "metadata": {},
   "outputs": [
    {
     "name": "stdout",
     "output_type": "stream",
     "text": [
      "[1] \"XGBoost Accuracy: 0.903225806451613\"\n"
     ]
    }
   ],
   "source": [
    "test_labels = as.numeric(cc$label[-train_indices_dmy]) - 1\n",
    "accuracy_xgb = sum(predicted_labels == test_labels) / length(test_labels)\n",
    "print(paste(\"XGBoost Accuracy:\", accuracy_xgb))"
   ]
  },
  {
   "cell_type": "code",
   "execution_count": 131,
   "id": "6b4d27a5-ef42-4da9-b174-fdf520e764ea",
   "metadata": {},
   "outputs": [
    {
     "data": {
      "text/plain": [
       "Confusion Matrix and Statistics\n",
       "\n",
       "           actual_labels\n",
       "predictions   0   1\n",
       "          0 387  22\n",
       "          1  23  33\n",
       "                                          \n",
       "               Accuracy : 0.9032          \n",
       "                 95% CI : (0.8727, 0.9285)\n",
       "    No Information Rate : 0.8817          \n",
       "    P-Value [Acc > NIR] : 0.08349         \n",
       "                                          \n",
       "                  Kappa : 0.5397          \n",
       "                                          \n",
       " Mcnemar's Test P-Value : 1.00000         \n",
       "                                          \n",
       "            Sensitivity : 0.9439          \n",
       "            Specificity : 0.6000          \n",
       "         Pos Pred Value : 0.9462          \n",
       "         Neg Pred Value : 0.5893          \n",
       "             Prevalence : 0.8817          \n",
       "         Detection Rate : 0.8323          \n",
       "   Detection Prevalence : 0.8796          \n",
       "      Balanced Accuracy : 0.7720          \n",
       "                                          \n",
       "       'Positive' Class : 0               \n",
       "                                          "
      ]
     },
     "metadata": {},
     "output_type": "display_data"
    }
   ],
   "source": [
    "t = table(predictions = predicted_labels, actual_labels = test_labels)\n",
    "confusionMatrix(t)"
   ]
  },
  {
   "cell_type": "markdown",
   "id": "87062adf-6501-4ee0-8148-5cedac2c2303",
   "metadata": {},
   "source": [
    "**ROC curve**"
   ]
  },
  {
   "cell_type": "code",
   "execution_count": 132,
   "id": "fb6bea24-99ab-4b02-a6d8-dab8ebc1f94b",
   "metadata": {},
   "outputs": [
    {
     "name": "stderr",
     "output_type": "stream",
     "text": [
      "Setting levels: control = 0, case = 1\n",
      "\n",
      "Setting direction: controls < cases\n",
      "\n"
     ]
    },
    {
     "name": "stdout",
     "output_type": "stream",
     "text": [
      "Area under the curve: 0.772\n"
     ]
    }
   ],
   "source": [
    "roc_obj_xgb = roc(test_labels, predicted_labels)\n",
    "\n",
    "#get the AUC\n",
    "auc_value_xgb = auc(roc_obj_xgb)\n",
    "print(auc_value_xgb)"
   ]
  },
  {
   "cell_type": "code",
   "execution_count": 133,
   "id": "f9c896e0-a616-4d3b-999e-7a0e2966f413",
   "metadata": {},
   "outputs": [
    {
     "data": {
      "image/png": "[encoded data removed]",
      "text/plain": [
       "Plot with title \"ROC CURVE\""
      ]
     },
     "metadata": {
      "image/png": {
       "height": 360,
       "width": 480
      }
     },
     "output_type": "display_data"
    }
   ],
   "source": [
    "options(repr.plot.width =8 , repr.plot.height =6)\n",
    "\n",
    "plot(roc_obj_xgb, col = \"blue\", main = \"ROC CURVE\")\n",
    "lines(roc_obj, col = \"red\")\n",
    "legend(x = \"bottomright\", lty = c(3,4), text.font = 4,  \n",
    "       col= c(\"blue\",\"red\"),text.col = \"black\",  \n",
    "       legend=c(\"XGB ROC\", \"LOG ROC\")) "
   ]
  },
  {
   "cell_type": "raw",
   "id": "d8f59e7f-21a4-4a9e-a84b-e430146d23b6",
   "metadata": {},
   "source": [
    "We get a better accuracy from our **xgboost model** than our **logistic regression model**. We can see this improvement on the ROC curve too.\n",
    "For any fixed value of specificity, xgboost model achieves a higher sensitivity than logistic regression model."
   ]
  },
  {
   "cell_type": "code",
   "execution_count": null,
   "id": "7f01f7d2-c43c-4af9-891f-91ca3f218e3a",
   "metadata": {},
   "outputs": [],
   "source": []
  }
 ],
 "metadata": {
  "kernelspec": {
   "display_name": "R",
   "language": "R",
   "name": "ir"
  },
  "language_info": {
   "codemirror_mode": "r",
   "file_extension": ".r",
   "mimetype": "text/x-r-source",
   "name": "R",
   "pygments_lexer": "r",
   "version": "4.3.1"
  }
 },
 "nbformat": 4,
 "nbformat_minor": 5
}
